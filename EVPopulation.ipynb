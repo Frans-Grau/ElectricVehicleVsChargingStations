{
  "cells": [
    {
      "cell_type": "markdown",
      "metadata": {
        "id": "view-in-github",
        "colab_type": "text"
      },
      "source": [
        "<a href=\"https://colab.research.google.com/github/Frans-Grau/ElectricVehicleVsChargingStations/blob/main/EVPopulation.ipynb\" target=\"_parent\"><img src=\"https://colab.research.google.com/assets/colab-badge.svg\" alt=\"Open In Colab\"/></a>"
      ]
    },
    {
      "cell_type": "code",
      "source": [
        "# !pip install pyspark"
      ],
      "metadata": {
        "id": "zQbX9usmHNd_"
      },
      "id": "zQbX9usmHNd_",
      "execution_count": null,
      "outputs": []
    },
    {
      "cell_type": "code",
      "execution_count": 3,
      "id": "2345c28b-b817-4c5b-9ad3-0abaca0d246b",
      "metadata": {
        "id": "2345c28b-b817-4c5b-9ad3-0abaca0d246b"
      },
      "outputs": [],
      "source": [
        "import pyspark\n",
        "from pyspark import SparkConf, SparkContext\n",
        "from pyspark.sql import SparkSession\n",
        "spark = SparkSession.builder.appName(\"EVPop\").getOrCreate()"
      ]
    },
    {
      "cell_type": "code",
      "source": [
        "url = \"https://raw.githubusercontent.com/Frans-Grau/ElectricVehicleVsChargingStations/main/Databases/EVPopulation.csv\"\n",
        "from pyspark import SparkFiles\n",
        "spark.sparkContext.addFile(url)\n",
        "\n",
        "dfEV = spark.read.csv(\"file://\"+SparkFiles.get(\"EVPopulation.csv\"), header=True, inferSchema= True)"
      ],
      "metadata": {
        "id": "17jLvOiVHJr3"
      },
      "id": "17jLvOiVHJr3",
      "execution_count": 4,
      "outputs": []
    },
    {
      "cell_type": "code",
      "source": [
        "dfEV.show(1)"
      ],
      "metadata": {
        "colab": {
          "base_uri": "https://localhost:8080/"
        },
        "id": "h3nqibEvHwDL",
        "outputId": "380020a6-97bd-40d7-87be-3d2ecae86863"
      },
      "id": "h3nqibEvHwDL",
      "execution_count": 5,
      "outputs": [
        {
          "output_type": "stream",
          "name": "stdout",
          "text": [
            "+----------+------+-------+-----+-----------+----------+-------------+---------+---------------------+-------------------------------------------------+--------------+---------+--------------------+--------------+--------------------+----------------+-----------------+\n",
            "|VIN (1-10)|County|   City|State|Postal Code|Model Year|         Make|    Model|Electric Vehicle Type|Clean Alternative Fuel Vehicle (CAFV) Eligibility|Electric Range|Base MSRP|Legislative District|DOL Vehicle ID|    Vehicle Location|Electric Utility|2020 Census Tract|\n",
            "+----------+------+-------+-----+-----------+----------+-------------+---------+---------------------+-------------------------------------------------+--------------+---------+--------------------+--------------+--------------------+----------------+-----------------+\n",
            "|WDC0G5EB7K|Louisa|Bumpass|   VA|      23024|      2019|MERCEDES-BENZ|GLC-CLASS| Plug-in Hybrid El...|                             Not eligible due ...|            10|        0|                null|     153874850|POINT (-77.73727 ...|            null|      51109950101|\n",
            "+----------+------+-------+-----+-----------+----------+-------------+---------+---------------------+-------------------------------------------------+--------------+---------+--------------------+--------------+--------------------+----------------+-----------------+\n",
            "only showing top 1 row\n",
            "\n"
          ]
        }
      ]
    },
    {
      "cell_type": "code",
      "execution_count": 6,
      "id": "25ae599a-55e6-4a2d-bb15-43d2d296c9dd",
      "metadata": {
        "colab": {
          "base_uri": "https://localhost:8080/"
        },
        "id": "25ae599a-55e6-4a2d-bb15-43d2d296c9dd",
        "outputId": "a99f171e-2740-4f87-d020-3aa17842abcf"
      },
      "outputs": [
        {
          "output_type": "stream",
          "name": "stdout",
          "text": [
            "root\n",
            " |-- VIN (1-10): string (nullable = true)\n",
            " |-- County: string (nullable = true)\n",
            " |-- City: string (nullable = true)\n",
            " |-- State: string (nullable = true)\n",
            " |-- Postal Code: integer (nullable = true)\n",
            " |-- Model Year: integer (nullable = true)\n",
            " |-- Make: string (nullable = true)\n",
            " |-- Model: string (nullable = true)\n",
            " |-- Electric Vehicle Type: string (nullable = true)\n",
            " |-- Clean Alternative Fuel Vehicle (CAFV) Eligibility: string (nullable = true)\n",
            " |-- Electric Range: integer (nullable = true)\n",
            " |-- Base MSRP: integer (nullable = true)\n",
            " |-- Legislative District: integer (nullable = true)\n",
            " |-- DOL Vehicle ID: integer (nullable = true)\n",
            " |-- Vehicle Location: string (nullable = true)\n",
            " |-- Electric Utility: string (nullable = true)\n",
            " |-- 2020 Census Tract: long (nullable = true)\n",
            "\n"
          ]
        }
      ],
      "source": [
        "dfEV.printSchema()"
      ]
    },
    {
      "cell_type": "markdown",
      "id": "11446956-823f-4d97-842b-25641b82096e",
      "metadata": {
        "id": "11446956-823f-4d97-842b-25641b82096e"
      },
      "source": [
        "## EDA on the filtered DF -> State = Washington"
      ]
    },
    {
      "cell_type": "code",
      "execution_count": 7,
      "id": "25d61c31-229a-4050-938e-a3de94aa182d",
      "metadata": {
        "colab": {
          "base_uri": "https://localhost:8080/"
        },
        "id": "25d61c31-229a-4050-938e-a3de94aa182d",
        "outputId": "1423d4e8-290e-4798-acb6-c4c8b35c6d7e"
      },
      "outputs": [
        {
          "output_type": "stream",
          "name": "stdout",
          "text": [
            "+-----+------+\n",
            "|State| count|\n",
            "+-----+------+\n",
            "|   WA|114312|\n",
            "+-----+------+\n",
            "\n"
          ]
        }
      ],
      "source": [
        "### Filter dfEV to just values in WA and save into a new dataframe\n",
        "dfWA = dfEV.filter(dfEV.State == 'WA')\n",
        "dfWA.groupBy('State').count().show()"
      ]
    },
    {
      "cell_type": "code",
      "source": [
        "### Check for Null values -> the whole df\n",
        "from pyspark.sql.functions import isnan, when, count, col, isnull\n",
        "dfWA.select([count(when(isnan(c) | col(c).isNull(), c)).alias(c) for c in dfWA.columns]).show()"
      ],
      "metadata": {
        "id": "JjAq0Oc9LpwF",
        "outputId": "bd7bc0c1-d353-490d-cf38-f3bfae1a1a36",
        "colab": {
          "base_uri": "https://localhost:8080/"
        }
      },
      "id": "JjAq0Oc9LpwF",
      "execution_count": 34,
      "outputs": [
        {
          "output_type": "stream",
          "name": "stdout",
          "text": [
            "+----------+------+----+-----+-----------+----------+----+-----+---------------------+-------------------------------------------------+--------------+---------+--------------------+--------------+----------------+----------------+-----------------+\n",
            "|VIN (1-10)|County|City|State|Postal Code|Model Year|Make|Model|Electric Vehicle Type|Clean Alternative Fuel Vehicle (CAFV) Eligibility|Electric Range|Base MSRP|Legislative District|DOL Vehicle ID|Vehicle Location|Electric Utility|2020 Census Tract|\n",
            "+----------+------+----+-----+-----------+----------+----+-----+---------------------+-------------------------------------------------+--------------+---------+--------------------+--------------+----------------+----------------+-----------------+\n",
            "|         0|     0|   0|    0|          0|         0|   0|   84|                    0|                                                0|             0|        0|                   0|             0|              27|             159|                0|\n",
            "+----------+------+----+-----+-----------+----------+----+-----+---------------------+-------------------------------------------------+--------------+---------+--------------------+--------------+----------------+----------------+-----------------+\n",
            "\n"
          ]
        }
      ]
    },
    {
      "cell_type": "code",
      "source": [
        "### Check for null values -> 1 column at a time \n",
        "from pyspark.sql.functions import col \n",
        "dfWA.filter(col('Model').isNull()).count()"
      ],
      "metadata": {
        "id": "ziLFW8pZL4EX",
        "outputId": "bac7378f-5d75-46e5-f696-115ece368f75",
        "colab": {
          "base_uri": "https://localhost:8080/"
        }
      },
      "id": "ziLFW8pZL4EX",
      "execution_count": 33,
      "outputs": [
        {
          "output_type": "execute_result",
          "data": {
            "text/plain": [
              "84"
            ]
          },
          "metadata": {},
          "execution_count": 33
        }
      ]
    },
    {
      "cell_type": "code",
      "execution_count": 16,
      "id": "34823132-dc2c-49c6-86c7-1ae46035384d",
      "metadata": {
        "colab": {
          "base_uri": "https://localhost:8080/"
        },
        "id": "34823132-dc2c-49c6-86c7-1ae46035384d",
        "outputId": "e5122558-a50a-4f51-dd9f-d07b558ff7c6"
      },
      "outputs": [
        {
          "output_type": "stream",
          "name": "stdout",
          "text": [
            "+------------+-----+\n",
            "|      County|count|\n",
            "+------------+-----+\n",
            "|        King|60059|\n",
            "|   Snohomish|12720|\n",
            "|      Pierce| 8684|\n",
            "|       Clark| 6827|\n",
            "|    Thurston| 4207|\n",
            "|      Kitsap| 3902|\n",
            "|     Whatcom| 2873|\n",
            "|     Spokane| 2835|\n",
            "|      Benton| 1394|\n",
            "|      Island| 1307|\n",
            "|      Skagit| 1269|\n",
            "|     Clallam|  741|\n",
            "|    San Juan|  729|\n",
            "|   Jefferson|  699|\n",
            "|      Chelan|  654|\n",
            "|      Yakima|  633|\n",
            "|     Cowlitz|  576|\n",
            "|       Mason|  555|\n",
            "|       Lewis|  437|\n",
            "|Grays Harbor|  398|\n",
            "+------------+-----+\n",
            "only showing top 20 rows\n",
            "\n"
          ]
        }
      ],
      "source": [
        "### County information\n",
        "dfWA.groupBy('County').count().orderBy('count', ascending=False).show()"
      ]
    },
    {
      "cell_type": "code",
      "execution_count": 15,
      "id": "210b51e7-7fec-42b1-a5d8-15c2dc2dbe8a",
      "metadata": {
        "colab": {
          "base_uri": "https://localhost:8080/"
        },
        "id": "210b51e7-7fec-42b1-a5d8-15c2dc2dbe8a",
        "outputId": "295d08b1-6689-42b6-d98e-39a4f943d48a"
      },
      "outputs": [
        {
          "output_type": "stream",
          "name": "stdout",
          "text": [
            "+-------------+-----+\n",
            "|         City|count|\n",
            "+-------------+-----+\n",
            "|      Seattle|20619|\n",
            "|     Bellevue| 5990|\n",
            "|      Redmond| 4282|\n",
            "|    Vancouver| 4108|\n",
            "|     Kirkland| 3639|\n",
            "|      Bothell| 3407|\n",
            "|    Sammamish| 3371|\n",
            "|       Renton| 2857|\n",
            "|      Olympia| 2802|\n",
            "|       Tacoma| 2411|\n",
            "|   Bellingham| 1980|\n",
            "|     Issaquah| 1829|\n",
            "|      Spokane| 1697|\n",
            "|Mercer Island| 1669|\n",
            "|  Woodinville| 1624|\n",
            "|         Kent| 1620|\n",
            "|      Everett| 1520|\n",
            "|     Lynnwood| 1505|\n",
            "|    Snohomish| 1350|\n",
            "|      Edmonds| 1303|\n",
            "+-------------+-----+\n",
            "only showing top 20 rows\n",
            "\n"
          ]
        }
      ],
      "source": [
        "### City Information\n",
        "dfWA.groupBy('City').count().orderBy('count', ascending=False).show()"
      ]
    },
    {
      "cell_type": "code",
      "execution_count": 11,
      "id": "1f62e291-3765-44d6-b015-6d002768080c",
      "metadata": {
        "colab": {
          "base_uri": "https://localhost:8080/"
        },
        "id": "1f62e291-3765-44d6-b015-6d002768080c",
        "outputId": "00eac1f6-77b2-41eb-f196-01fe9c73f087"
      },
      "outputs": [
        {
          "output_type": "stream",
          "name": "stdout",
          "text": [
            "+----------+-----+\n",
            "|      Make|count|\n",
            "+----------+-----+\n",
            "|     TESLA|52536|\n",
            "|    NISSAN|12826|\n",
            "| CHEVROLET|10253|\n",
            "|      FORD| 6047|\n",
            "|       BMW| 4742|\n",
            "|       KIA| 4553|\n",
            "|    TOYOTA| 4422|\n",
            "|VOLKSWAGEN| 2715|\n",
            "|     VOLVO| 2528|\n",
            "|      AUDI| 2368|\n",
            "|  CHRYSLER| 1815|\n",
            "|   HYUNDAI| 1535|\n",
            "|      JEEP| 1171|\n",
            "|    RIVIAN|  991|\n",
            "|   PORSCHE|  820|\n",
            "|      FIAT|  808|\n",
            "|     HONDA|  786|\n",
            "|      MINI|  671|\n",
            "|  POLESTAR|  584|\n",
            "|MITSUBISHI|  580|\n",
            "+----------+-----+\n",
            "only showing top 20 rows\n",
            "\n"
          ]
        }
      ],
      "source": [
        "### Value Counts\n",
        "dfWA.groupBy('Make').count().orderBy('count', ascending=False).show()"
      ]
    }
  ],
  "metadata": {
    "kernelspec": {
      "display_name": "Python 3 (ipykernel)",
      "language": "python",
      "name": "python3"
    },
    "language_info": {
      "codemirror_mode": {
        "name": "ipython",
        "version": 3
      },
      "file_extension": ".py",
      "mimetype": "text/x-python",
      "name": "python",
      "nbconvert_exporter": "python",
      "pygments_lexer": "ipython3",
      "version": "3.9.13"
    },
    "colab": {
      "provenance": [],
      "include_colab_link": true
    }
  },
  "nbformat": 4,
  "nbformat_minor": 5
}