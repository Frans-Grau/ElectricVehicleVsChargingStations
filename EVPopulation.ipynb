{
  "cells": [
    {
      "cell_type": "markdown",
      "metadata": {
        "id": "view-in-github",
        "colab_type": "text"
      },
      "source": [
        "<a href=\"https://colab.research.google.com/github/Frans-Grau/ElectricVehicleVsChargingStations/blob/main/EVPopulation.ipynb\" target=\"_parent\"><img src=\"https://colab.research.google.com/assets/colab-badge.svg\" alt=\"Open In Colab\"/></a>"
      ]
    },
    {
      "cell_type": "code",
      "source": [
        "# !pip install pyspark"
      ],
      "metadata": {
        "id": "zQbX9usmHNd_"
      },
      "id": "zQbX9usmHNd_",
      "execution_count": null,
      "outputs": []
    },
    {
      "cell_type": "code",
      "execution_count": 3,
      "id": "2345c28b-b817-4c5b-9ad3-0abaca0d246b",
      "metadata": {
        "id": "2345c28b-b817-4c5b-9ad3-0abaca0d246b"
      },
      "outputs": [],
      "source": [
        "import pandas as pd\n",
        "import pyspark\n",
        "from pyspark import SparkConf, SparkContext\n",
        "from pyspark.sql import SparkSession\n",
        "spark = SparkSession.builder.appName(\"EVPop\").getOrCreate()"
      ]
    },
    {
      "cell_type": "code",
      "source": [
        "url = \"https://raw.githubusercontent.com/Frans-Grau/ElectricVehicleVsChargingStations/main/Databases/EVPopulation.csv\"\n",
        "from pyspark import SparkFiles\n",
        "spark.sparkContext.addFile(url)\n",
        "\n",
        "dfEV = spark.read.csv(\"file://\"+SparkFiles.get(\"EVPopulation.csv\"), header=True, inferSchema= True)"
      ],
      "metadata": {
        "id": "17jLvOiVHJr3"
      },
      "id": "17jLvOiVHJr3",
      "execution_count": 4,
      "outputs": []
    },
    {
      "cell_type": "code",
      "source": [
        "dfEV.show(1)"
      ],
      "metadata": {
        "colab": {
          "base_uri": "https://localhost:8080/"
        },
        "id": "h3nqibEvHwDL",
        "outputId": "380020a6-97bd-40d7-87be-3d2ecae86863"
      },
      "id": "h3nqibEvHwDL",
      "execution_count": 5,
      "outputs": [
        {
          "output_type": "stream",
          "name": "stdout",
          "text": [
            "+----------+------+-------+-----+-----------+----------+-------------+---------+---------------------+-------------------------------------------------+--------------+---------+--------------------+--------------+--------------------+----------------+-----------------+\n",
            "|VIN (1-10)|County|   City|State|Postal Code|Model Year|         Make|    Model|Electric Vehicle Type|Clean Alternative Fuel Vehicle (CAFV) Eligibility|Electric Range|Base MSRP|Legislative District|DOL Vehicle ID|    Vehicle Location|Electric Utility|2020 Census Tract|\n",
            "+----------+------+-------+-----+-----------+----------+-------------+---------+---------------------+-------------------------------------------------+--------------+---------+--------------------+--------------+--------------------+----------------+-----------------+\n",
            "|WDC0G5EB7K|Louisa|Bumpass|   VA|      23024|      2019|MERCEDES-BENZ|GLC-CLASS| Plug-in Hybrid El...|                             Not eligible due ...|            10|        0|                null|     153874850|POINT (-77.73727 ...|            null|      51109950101|\n",
            "+----------+------+-------+-----+-----------+----------+-------------+---------+---------------------+-------------------------------------------------+--------------+---------+--------------------+--------------+--------------------+----------------+-----------------+\n",
            "only showing top 1 row\n",
            "\n"
          ]
        }
      ]
    },
    {
      "cell_type": "code",
      "execution_count": 6,
      "id": "25ae599a-55e6-4a2d-bb15-43d2d296c9dd",
      "metadata": {
        "colab": {
          "base_uri": "https://localhost:8080/"
        },
        "id": "25ae599a-55e6-4a2d-bb15-43d2d296c9dd",
        "outputId": "a99f171e-2740-4f87-d020-3aa17842abcf"
      },
      "outputs": [
        {
          "output_type": "stream",
          "name": "stdout",
          "text": [
            "root\n",
            " |-- VIN (1-10): string (nullable = true)\n",
            " |-- County: string (nullable = true)\n",
            " |-- City: string (nullable = true)\n",
            " |-- State: string (nullable = true)\n",
            " |-- Postal Code: integer (nullable = true)\n",
            " |-- Model Year: integer (nullable = true)\n",
            " |-- Make: string (nullable = true)\n",
            " |-- Model: string (nullable = true)\n",
            " |-- Electric Vehicle Type: string (nullable = true)\n",
            " |-- Clean Alternative Fuel Vehicle (CAFV) Eligibility: string (nullable = true)\n",
            " |-- Electric Range: integer (nullable = true)\n",
            " |-- Base MSRP: integer (nullable = true)\n",
            " |-- Legislative District: integer (nullable = true)\n",
            " |-- DOL Vehicle ID: integer (nullable = true)\n",
            " |-- Vehicle Location: string (nullable = true)\n",
            " |-- Electric Utility: string (nullable = true)\n",
            " |-- 2020 Census Tract: long (nullable = true)\n",
            "\n"
          ]
        }
      ],
      "source": [
        "dfEV.printSchema()"
      ]
    },
    {
      "cell_type": "markdown",
      "id": "11446956-823f-4d97-842b-25641b82096e",
      "metadata": {
        "id": "11446956-823f-4d97-842b-25641b82096e"
      },
      "source": [
        "## EDA on the filtered DF -> State = Washington"
      ]
    },
    {
      "cell_type": "code",
      "execution_count": 49,
      "id": "25d61c31-229a-4050-938e-a3de94aa182d",
      "metadata": {
        "id": "25d61c31-229a-4050-938e-a3de94aa182d"
      },
      "outputs": [],
      "source": [
        "### Filter dfEV to just values in WA and save into a new dataframe\n",
        "df1 = dfEV.filter(dfEV.State == 'WA')\n"
      ]
    },
    {
      "cell_type": "code",
      "source": [
        "### Check for Null values -> the whole df\n",
        "from pyspark.sql.functions import isnan, when, count, col, isnull\n",
        "df1.select([count(when(isnan(c) | col(c).isNull(), c)).alias(c) for c in df1.columns]).show()"
      ],
      "metadata": {
        "colab": {
          "base_uri": "https://localhost:8080/"
        },
        "id": "JjAq0Oc9LpwF",
        "outputId": "0f492a04-43d3-4fe4-ff1e-3255f0ecf73b"
      },
      "id": "JjAq0Oc9LpwF",
      "execution_count": 51,
      "outputs": [
        {
          "output_type": "stream",
          "name": "stdout",
          "text": [
            "+----------+------+----+-----+-----------+----------+----+-----+---------------------+-------------------------------------------------+--------------+---------+--------------------+--------------+----------------+----------------+-----------------+\n",
            "|VIN (1-10)|County|City|State|Postal Code|Model Year|Make|Model|Electric Vehicle Type|Clean Alternative Fuel Vehicle (CAFV) Eligibility|Electric Range|Base MSRP|Legislative District|DOL Vehicle ID|Vehicle Location|Electric Utility|2020 Census Tract|\n",
            "+----------+------+----+-----+-----------+----------+----+-----+---------------------+-------------------------------------------------+--------------+---------+--------------------+--------------+----------------+----------------+-----------------+\n",
            "|         0|     0|   0|    0|          0|         0|   0|   84|                    0|                                                0|             0|        0|                   0|             0|              27|             159|                0|\n",
            "+----------+------+----+-----+-----------+----------+----+-----+---------------------+-------------------------------------------------+--------------+---------+--------------------+--------------+----------------+----------------+-----------------+\n",
            "\n"
          ]
        }
      ]
    },
    {
      "cell_type": "code",
      "source": [
        "### Check for null values -> 1 column at a time \n",
        "from pyspark.sql.functions import col \n",
        "df1.filter(col('Model').isNull()).count()"
      ],
      "metadata": {
        "colab": {
          "base_uri": "https://localhost:8080/"
        },
        "id": "ziLFW8pZL4EX",
        "outputId": "166b34bf-c82b-4348-e392-62444539797d"
      },
      "id": "ziLFW8pZL4EX",
      "execution_count": 53,
      "outputs": [
        {
          "output_type": "execute_result",
          "data": {
            "text/plain": [
              "84"
            ]
          },
          "metadata": {},
          "execution_count": 53
        }
      ]
    },
    {
      "cell_type": "code",
      "source": [
        "### Compare SIZE after removing all nulls\n",
        "dfWA = df1.na.drop()\n",
        "print('df1 - Original: ', (df1).count(), len(df1.columns))\n",
        "print('dfWA - Without Null values: ', (dfWA).count(), len(dfWA.columns))"
      ],
      "metadata": {
        "colab": {
          "base_uri": "https://localhost:8080/"
        },
        "id": "L0vDfsu7Nurd",
        "outputId": "b47fb473-7f00-43ef-fbd2-aaedbc0c00a2"
      },
      "id": "L0vDfsu7Nurd",
      "execution_count": 55,
      "outputs": [
        {
          "output_type": "stream",
          "name": "stdout",
          "text": [
            "df1 - Original:  114312 17\n",
            "dfWA - Without Null values:  114042 17\n"
          ]
        }
      ]
    },
    {
      "cell_type": "code",
      "execution_count": 56,
      "id": "34823132-dc2c-49c6-86c7-1ae46035384d",
      "metadata": {
        "colab": {
          "base_uri": "https://localhost:8080/"
        },
        "id": "34823132-dc2c-49c6-86c7-1ae46035384d",
        "outputId": "93559638-4c0e-4094-9ddb-1e321793f532"
      },
      "outputs": [
        {
          "output_type": "stream",
          "name": "stdout",
          "text": [
            "+------------+-----+\n",
            "|      County|count|\n",
            "+------------+-----+\n",
            "|        King|60005|\n",
            "|   Snohomish|12686|\n",
            "|      Pierce| 8670|\n",
            "|       Clark| 6824|\n",
            "|    Thurston| 4179|\n",
            "|      Kitsap| 3880|\n",
            "|     Whatcom| 2873|\n",
            "|     Spokane| 2828|\n",
            "|      Benton| 1394|\n",
            "|      Island| 1297|\n",
            "|      Skagit| 1240|\n",
            "|     Clallam|  737|\n",
            "|    San Juan|  724|\n",
            "|   Jefferson|  699|\n",
            "|      Chelan|  653|\n",
            "|      Yakima|  633|\n",
            "|     Cowlitz|  575|\n",
            "|       Mason|  554|\n",
            "|       Lewis|  437|\n",
            "|Grays Harbor|  397|\n",
            "+------------+-----+\n",
            "only showing top 20 rows\n",
            "\n"
          ]
        }
      ],
      "source": [
        "### County information\n",
        "dfWA.groupBy('County').count().orderBy('count', ascending=False).show()"
      ]
    },
    {
      "cell_type": "code",
      "execution_count": 57,
      "id": "210b51e7-7fec-42b1-a5d8-15c2dc2dbe8a",
      "metadata": {
        "colab": {
          "base_uri": "https://localhost:8080/"
        },
        "id": "210b51e7-7fec-42b1-a5d8-15c2dc2dbe8a",
        "outputId": "003566c8-85db-4f2d-8edb-3755732c460f"
      },
      "outputs": [
        {
          "output_type": "stream",
          "name": "stdout",
          "text": [
            "+-------------+-----+\n",
            "|         City|count|\n",
            "+-------------+-----+\n",
            "|      Seattle|20591|\n",
            "|     Bellevue| 5986|\n",
            "|      Redmond| 4279|\n",
            "|    Vancouver| 4106|\n",
            "|     Kirkland| 3636|\n",
            "|      Bothell| 3404|\n",
            "|    Sammamish| 3370|\n",
            "|       Renton| 2855|\n",
            "|      Olympia| 2776|\n",
            "|       Tacoma| 2407|\n",
            "|   Bellingham| 1980|\n",
            "|     Issaquah| 1827|\n",
            "|      Spokane| 1697|\n",
            "|Mercer Island| 1668|\n",
            "|  Woodinville| 1622|\n",
            "|         Kent| 1620|\n",
            "|      Everett| 1518|\n",
            "|     Lynnwood| 1501|\n",
            "|    Snohomish| 1349|\n",
            "|      Edmonds| 1299|\n",
            "+-------------+-----+\n",
            "only showing top 20 rows\n",
            "\n"
          ]
        }
      ],
      "source": [
        "### City Information\n",
        "dfWA.groupBy('City').count().orderBy('count', ascending=False).show()"
      ]
    },
    {
      "cell_type": "code",
      "execution_count": 76,
      "id": "1f62e291-3765-44d6-b015-6d002768080c",
      "metadata": {
        "colab": {
          "base_uri": "https://localhost:8080/",
          "height": 283
        },
        "id": "1f62e291-3765-44d6-b015-6d002768080c",
        "outputId": "f67fa395-86c5-412b-b945-46fe55cddc2e"
      },
      "outputs": [
        {
          "output_type": "execute_result",
          "data": {
            "text/plain": [
              "<matplotlib.axes._subplots.AxesSubplot at 0x7f04184b3ca0>"
            ]
          },
          "metadata": {},
          "execution_count": 76
        },
        {
          "output_type": "display_data",
          "data": {
            "text/plain": [
              "<Figure size 432x288 with 1 Axes>"
            ],
            "image/png": "[encoded data removed]"
          },
          "metadata": {
            "needs_background": "light"
          }
        }
      ],
      "source": [
        "### Value Counts and use pnadas to plot\n",
        "models = dfWA.groupBy('Make').count().orderBy('count', ascending=False)\n",
        "p_models = models.toPandas()\n",
        "p_models = p_models.set_index('Make')\n",
        "p_models.plot(kind='barh')"
      ]
    }
  ],
  "metadata": {
    "kernelspec": {
      "display_name": "Python 3 (ipykernel)",
      "language": "python",
      "name": "python3"
    },
    "language_info": {
      "codemirror_mode": {
        "name": "ipython",
        "version": 3
      },
      "file_extension": ".py",
      "mimetype": "text/x-python",
      "name": "python",
      "nbconvert_exporter": "python",
      "pygments_lexer": "ipython3",
      "version": "3.9.13"
    },
    "colab": {
      "provenance": [],
      "include_colab_link": true
    }
  },
  "nbformat": 4,
  "nbformat_minor": 5
}