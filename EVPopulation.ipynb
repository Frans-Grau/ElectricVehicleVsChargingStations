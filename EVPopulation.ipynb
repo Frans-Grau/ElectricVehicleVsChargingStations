{
  "cells": [
    {
      "cell_type": "markdown",
      "metadata": {
        "id": "view-in-github",
        "colab_type": "text"
      },
      "source": [
        "<a href=\"https://colab.research.google.com/github/Frans-Grau/ElectricVehicleVsChargingStations/blob/main/EVPopulation.ipynb\" target=\"_parent\"><img src=\"https://colab.research.google.com/assets/colab-badge.svg\" alt=\"Open In Colab\"/></a>"
      ]
    },
    {
      "cell_type": "code",
      "source": [
        "# !pip install pyspark"
      ],
      "metadata": {
        "id": "zQbX9usmHNd_"
      },
      "id": "zQbX9usmHNd_",
      "execution_count": null,
      "outputs": []
    },
    {
      "cell_type": "code",
      "execution_count": 3,
      "id": "2345c28b-b817-4c5b-9ad3-0abaca0d246b",
      "metadata": {
        "id": "2345c28b-b817-4c5b-9ad3-0abaca0d246b"
      },
      "outputs": [],
      "source": [
        "import pyspark\n",
        "from pyspark import SparkConf, SparkContext\n",
        "from pyspark.sql import SparkSession\n",
        "spark = SparkSession.builder.appName(\"EVPop\").getOrCreate()"
      ]
    },
    {
      "cell_type": "code",
      "source": [
        "url = \"https://raw.githubusercontent.com/Frans-Grau/ElectricVehicleVsChargingStations/main/Databases/EVPopulation.csv\"\n",
        "from pyspark import SparkFiles\n",
        "spark.sparkContext.addFile(url)\n",
        "\n",
        "dfEV = spark.read.csv(\"file://\"+SparkFiles.get(\"EVPopulation.csv\"), header=True, inferSchema= True)"
      ],
      "metadata": {
        "id": "17jLvOiVHJr3"
      },
      "id": "17jLvOiVHJr3",
      "execution_count": 4,
      "outputs": []
    },
    {
      "cell_type": "code",
      "source": [
        "dfEV.show(1)"
      ],
      "metadata": {
        "id": "h3nqibEvHwDL",
        "outputId": "380020a6-97bd-40d7-87be-3d2ecae86863",
        "colab": {
          "base_uri": "https://localhost:8080/"
        }
      },
      "id": "h3nqibEvHwDL",
      "execution_count": 5,
      "outputs": [
        {
          "output_type": "stream",
          "name": "stdout",
          "text": [
            "+----------+------+-------+-----+-----------+----------+-------------+---------+---------------------+-------------------------------------------------+--------------+---------+--------------------+--------------+--------------------+----------------+-----------------+\n",
            "|VIN (1-10)|County|   City|State|Postal Code|Model Year|         Make|    Model|Electric Vehicle Type|Clean Alternative Fuel Vehicle (CAFV) Eligibility|Electric Range|Base MSRP|Legislative District|DOL Vehicle ID|    Vehicle Location|Electric Utility|2020 Census Tract|\n",
            "+----------+------+-------+-----+-----------+----------+-------------+---------+---------------------+-------------------------------------------------+--------------+---------+--------------------+--------------+--------------------+----------------+-----------------+\n",
            "|WDC0G5EB7K|Louisa|Bumpass|   VA|      23024|      2019|MERCEDES-BENZ|GLC-CLASS| Plug-in Hybrid El...|                             Not eligible due ...|            10|        0|                null|     153874850|POINT (-77.73727 ...|            null|      51109950101|\n",
            "+----------+------+-------+-----+-----------+----------+-------------+---------+---------------------+-------------------------------------------------+--------------+---------+--------------------+--------------+--------------------+----------------+-----------------+\n",
            "only showing top 1 row\n",
            "\n"
          ]
        }
      ]
    },
    {
      "cell_type": "code",
      "execution_count": 6,
      "id": "25ae599a-55e6-4a2d-bb15-43d2d296c9dd",
      "metadata": {
        "id": "25ae599a-55e6-4a2d-bb15-43d2d296c9dd",
        "outputId": "a99f171e-2740-4f87-d020-3aa17842abcf",
        "colab": {
          "base_uri": "https://localhost:8080/"
        }
      },
      "outputs": [
        {
          "output_type": "stream",
          "name": "stdout",
          "text": [
            "root\n",
            " |-- VIN (1-10): string (nullable = true)\n",
            " |-- County: string (nullable = true)\n",
            " |-- City: string (nullable = true)\n",
            " |-- State: string (nullable = true)\n",
            " |-- Postal Code: integer (nullable = true)\n",
            " |-- Model Year: integer (nullable = true)\n",
            " |-- Make: string (nullable = true)\n",
            " |-- Model: string (nullable = true)\n",
            " |-- Electric Vehicle Type: string (nullable = true)\n",
            " |-- Clean Alternative Fuel Vehicle (CAFV) Eligibility: string (nullable = true)\n",
            " |-- Electric Range: integer (nullable = true)\n",
            " |-- Base MSRP: integer (nullable = true)\n",
            " |-- Legislative District: integer (nullable = true)\n",
            " |-- DOL Vehicle ID: integer (nullable = true)\n",
            " |-- Vehicle Location: string (nullable = true)\n",
            " |-- Electric Utility: string (nullable = true)\n",
            " |-- 2020 Census Tract: long (nullable = true)\n",
            "\n"
          ]
        }
      ],
      "source": [
        "dfEV.printSchema()"
      ]
    },
    {
      "cell_type": "markdown",
      "id": "11446956-823f-4d97-842b-25641b82096e",
      "metadata": {
        "id": "11446956-823f-4d97-842b-25641b82096e"
      },
      "source": [
        "EDA on the filtered DF -> State = Washington"
      ]
    },
    {
      "cell_type": "code",
      "execution_count": 7,
      "id": "25d61c31-229a-4050-938e-a3de94aa182d",
      "metadata": {
        "id": "25d61c31-229a-4050-938e-a3de94aa182d",
        "outputId": "1423d4e8-290e-4798-acb6-c4c8b35c6d7e",
        "colab": {
          "base_uri": "https://localhost:8080/"
        }
      },
      "outputs": [
        {
          "output_type": "stream",
          "name": "stdout",
          "text": [
            "+-----+------+\n",
            "|State| count|\n",
            "+-----+------+\n",
            "|   WA|114312|\n",
            "+-----+------+\n",
            "\n"
          ]
        }
      ],
      "source": [
        "### Filter dfEV to just values in WA and save into a new dataframe\n",
        "dfWA = dfEV.filter(dfEV.State == 'WA')\n",
        "dfWA.groupBy('State').count().show()"
      ]
    },
    {
      "cell_type": "code",
      "execution_count": 8,
      "id": "34823132-dc2c-49c6-86c7-1ae46035384d",
      "metadata": {
        "id": "34823132-dc2c-49c6-86c7-1ae46035384d",
        "outputId": "bad58415-8029-47bc-fb45-47b0172cd1a4",
        "colab": {
          "base_uri": "https://localhost:8080/"
        }
      },
      "outputs": [
        {
          "output_type": "stream",
          "name": "stdout",
          "text": [
            "+-----------+\n",
            "|     County|\n",
            "+-----------+\n",
            "|   Kittitas|\n",
            "|     Chelan|\n",
            "|  Snohomish|\n",
            "|   Thurston|\n",
            "|     Kitsap|\n",
            "|       King|\n",
            "|     Skagit|\n",
            "|     Kitsap|\n",
            "|  Snohomish|\n",
            "|     Yakima|\n",
            "|  Snohomish|\n",
            "|Walla Walla|\n",
            "|     Kitsap|\n",
            "|     Kitsap|\n",
            "|Walla Walla|\n",
            "|       King|\n",
            "|  Snohomish|\n",
            "|    Stevens|\n",
            "|  Snohomish|\n",
            "|   Thurston|\n",
            "+-----------+\n",
            "only showing top 20 rows\n",
            "\n"
          ]
        }
      ],
      "source": [
        "dfWA.select('County').show()"
      ]
    },
    {
      "cell_type": "code",
      "execution_count": 9,
      "id": "210b51e7-7fec-42b1-a5d8-15c2dc2dbe8a",
      "metadata": {
        "id": "210b51e7-7fec-42b1-a5d8-15c2dc2dbe8a",
        "outputId": "950cb7f8-3d20-4600-cec2-3ab1d2e51271",
        "colab": {
          "base_uri": "https://localhost:8080/"
        }
      },
      "outputs": [
        {
          "output_type": "stream",
          "name": "stdout",
          "text": [
            "+-----------+------------+\n",
            "|     County|        City|\n",
            "+-----------+------------+\n",
            "|   Kittitas|    Cle Elum|\n",
            "|     Chelan|      Chelan|\n",
            "|  Snohomish|   Snohomish|\n",
            "|   Thurston|    Tumwater|\n",
            "|     Kitsap|    Kingston|\n",
            "|       King|     Seattle|\n",
            "|     Skagit|Mount Vernon|\n",
            "|     Kitsap|Port Orchard|\n",
            "|  Snohomish|     Bothell|\n",
            "|     Yakima|      Tieton|\n",
            "|  Snohomish|     Edmonds|\n",
            "|Walla Walla| Walla Walla|\n",
            "|     Kitsap|Port Orchard|\n",
            "|     Kitsap|Port Orchard|\n",
            "|Walla Walla| Walla Walla|\n",
            "|       King|      Vashon|\n",
            "|  Snohomish|     Edmonds|\n",
            "|    Stevens|        Rice|\n",
            "|  Snohomish|    Mukilteo|\n",
            "|   Thurston|     Olympia|\n",
            "+-----------+------------+\n",
            "only showing top 20 rows\n",
            "\n"
          ]
        }
      ],
      "source": [
        "dfWA.select(['County','City']).show()"
      ]
    },
    {
      "cell_type": "code",
      "execution_count": 11,
      "id": "1f62e291-3765-44d6-b015-6d002768080c",
      "metadata": {
        "id": "1f62e291-3765-44d6-b015-6d002768080c",
        "outputId": "00eac1f6-77b2-41eb-f196-01fe9c73f087",
        "colab": {
          "base_uri": "https://localhost:8080/"
        }
      },
      "outputs": [
        {
          "output_type": "stream",
          "name": "stdout",
          "text": [
            "+----------+-----+\n",
            "|      Make|count|\n",
            "+----------+-----+\n",
            "|     TESLA|52536|\n",
            "|    NISSAN|12826|\n",
            "| CHEVROLET|10253|\n",
            "|      FORD| 6047|\n",
            "|       BMW| 4742|\n",
            "|       KIA| 4553|\n",
            "|    TOYOTA| 4422|\n",
            "|VOLKSWAGEN| 2715|\n",
            "|     VOLVO| 2528|\n",
            "|      AUDI| 2368|\n",
            "|  CHRYSLER| 1815|\n",
            "|   HYUNDAI| 1535|\n",
            "|      JEEP| 1171|\n",
            "|    RIVIAN|  991|\n",
            "|   PORSCHE|  820|\n",
            "|      FIAT|  808|\n",
            "|     HONDA|  786|\n",
            "|      MINI|  671|\n",
            "|  POLESTAR|  584|\n",
            "|MITSUBISHI|  580|\n",
            "+----------+-----+\n",
            "only showing top 20 rows\n",
            "\n"
          ]
        }
      ],
      "source": [
        "### Value Counts\n",
        "dfWA.groupBy('Make').count().orderBy('count', ascending=False).show()"
      ]
    },
    {
      "cell_type": "code",
      "execution_count": 12,
      "id": "d7f2b98b-f7d1-475d-8fe9-939cab82f7cc",
      "metadata": {
        "id": "d7f2b98b-f7d1-475d-8fe9-939cab82f7cc",
        "outputId": "bdcfced3-0c35-4c0f-fdd7-62a8eff9167c",
        "colab": {
          "base_uri": "https://localhost:8080/"
        }
      },
      "outputs": [
        {
          "output_type": "stream",
          "name": "stdout",
          "text": [
            "+-----+------+\n",
            "|State| count|\n",
            "+-----+------+\n",
            "|   WA|114312|\n",
            "+-----+------+\n",
            "\n"
          ]
        }
      ],
      "source": [
        "dfWA.groupBy('State').count().orderBy('count', ascending=False).show()"
      ]
    }
  ],
  "metadata": {
    "kernelspec": {
      "display_name": "Python 3 (ipykernel)",
      "language": "python",
      "name": "python3"
    },
    "language_info": {
      "codemirror_mode": {
        "name": "ipython",
        "version": 3
      },
      "file_extension": ".py",
      "mimetype": "text/x-python",
      "name": "python",
      "nbconvert_exporter": "python",
      "pygments_lexer": "ipython3",
      "version": "3.9.13"
    },
    "colab": {
      "provenance": [],
      "include_colab_link": true
    }
  },
  "nbformat": 4,
  "nbformat_minor": 5
}