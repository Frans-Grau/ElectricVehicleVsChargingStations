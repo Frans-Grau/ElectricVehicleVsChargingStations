{
 "cells": [
  {
   "cell_type": "markdown",
   "id": "7d0a6e44",
   "metadata": {
    "colab_type": "text",
    "id": "view-in-github"
   },
   "source": [
    "<a href=\"https://colab.research.google.com/github/Frans-Grau/ElectricVehicleVsChargingStations/blob/main/EVPopulation.ipynb\" target=\"_parent\"><img src=\"https://colab.research.google.com/assets/colab-badge.svg\" alt=\"Open In Colab\"/></a>"
   ]
  },
  {
   "cell_type": "code",
   "execution_count": 1,
   "id": "2345c28b-b817-4c5b-9ad3-0abaca0d246b",
   "metadata": {
    "id": "2345c28b-b817-4c5b-9ad3-0abaca0d246b"
   },
   "outputs": [
    {
     "name": "stdout",
     "output_type": "stream",
     "text": [
      "CPU times: total: 297 ms\n",
      "Wall time: 1.59 s\n"
     ]
    }
   ],
   "source": [
    "%%time\n",
    "import pandas as pd\n",
    "import plotly.express as px"
   ]
  },
  {
   "cell_type": "code",
   "execution_count": 2,
   "id": "17jLvOiVHJr3",
   "metadata": {
    "id": "17jLvOiVHJr3"
   },
   "outputs": [
    {
     "name": "stdout",
     "output_type": "stream",
     "text": [
      "CPU times: total: 62.5 ms\n",
      "Wall time: 7 s\n"
     ]
    }
   ],
   "source": [
    "%%time\n",
    "url = \"https://raw.githubusercontent.com/Frans-Grau/ElectricVehicleVsChargingStations/main/Datasets/EVPopulation.csv\"\n",
    "df=pd.read_csv(url)"
   ]
  },
  {
   "cell_type": "code",
   "execution_count": 3,
   "id": "h3nqibEvHwDL",
   "metadata": {
    "colab": {
     "base_uri": "https://localhost:8080/"
    },
    "id": "h3nqibEvHwDL",
    "outputId": "72e33b86-474a-403b-f15a-5659135961c0"
   },
   "outputs": [
    {
     "name": "stdout",
     "output_type": "stream",
     "text": [
      "CPU times: total: 0 ns\n",
      "Wall time: 0 ns\n"
     ]
    },
    {
     "data": {
      "text/html": [
       "<div>\n",
       "<style scoped>\n",
       "    .dataframe tbody tr th:only-of-type {\n",
       "        vertical-align: middle;\n",
       "    }\n",
       "\n",
       "    .dataframe tbody tr th {\n",
       "        vertical-align: top;\n",
       "    }\n",
       "\n",
       "    .dataframe thead th {\n",
       "        text-align: right;\n",
       "    }\n",
       "</style>\n",
       "<table border=\"1\" class=\"dataframe\">\n",
       "  <thead>\n",
       "    <tr style=\"text-align: right;\">\n",
       "      <th></th>\n",
       "      <th>VIN (1-10)</th>\n",
       "      <th>County</th>\n",
       "      <th>City</th>\n",
       "      <th>State</th>\n",
       "      <th>Postal Code</th>\n",
       "      <th>Model Year</th>\n",
       "      <th>Make</th>\n",
       "      <th>Model</th>\n",
       "      <th>Electric Vehicle Type</th>\n",
       "      <th>Clean Alternative Fuel Vehicle (CAFV) Eligibility</th>\n",
       "      <th>Electric Range</th>\n",
       "      <th>Base MSRP</th>\n",
       "      <th>Legislative District</th>\n",
       "      <th>DOL Vehicle ID</th>\n",
       "      <th>Vehicle Location</th>\n",
       "      <th>Electric Utility</th>\n",
       "      <th>2020 Census Tract</th>\n",
       "    </tr>\n",
       "  </thead>\n",
       "  <tbody>\n",
       "    <tr>\n",
       "      <th>0</th>\n",
       "      <td>WDC0G5EB7K</td>\n",
       "      <td>Louisa</td>\n",
       "      <td>Bumpass</td>\n",
       "      <td>VA</td>\n",
       "      <td>23024</td>\n",
       "      <td>2019</td>\n",
       "      <td>MERCEDES-BENZ</td>\n",
       "      <td>GLC-CLASS</td>\n",
       "      <td>Plug-in Hybrid Electric Vehicle (PHEV)</td>\n",
       "      <td>Not eligible due to low battery range</td>\n",
       "      <td>10</td>\n",
       "      <td>0</td>\n",
       "      <td>NaN</td>\n",
       "      <td>153874850</td>\n",
       "      <td>POINT (-77.73727 37.96459)</td>\n",
       "      <td>NaN</td>\n",
       "      <td>51109950101</td>\n",
       "    </tr>\n",
       "    <tr>\n",
       "      <th>1</th>\n",
       "      <td>5YJYGDEE8L</td>\n",
       "      <td>Kittitas</td>\n",
       "      <td>Cle Elum</td>\n",
       "      <td>WA</td>\n",
       "      <td>98922</td>\n",
       "      <td>2020</td>\n",
       "      <td>TESLA</td>\n",
       "      <td>MODEL Y</td>\n",
       "      <td>Battery Electric Vehicle (BEV)</td>\n",
       "      <td>Clean Alternative Fuel Vehicle Eligible</td>\n",
       "      <td>291</td>\n",
       "      <td>0</td>\n",
       "      <td>13.0</td>\n",
       "      <td>109455524</td>\n",
       "      <td>POINT (-120.93943 47.195)</td>\n",
       "      <td>PUGET SOUND ENERGY INC</td>\n",
       "      <td>53037975104</td>\n",
       "    </tr>\n",
       "    <tr>\n",
       "      <th>2</th>\n",
       "      <td>5YJ3E1EBXL</td>\n",
       "      <td>Chelan</td>\n",
       "      <td>Chelan</td>\n",
       "      <td>WA</td>\n",
       "      <td>98816</td>\n",
       "      <td>2020</td>\n",
       "      <td>TESLA</td>\n",
       "      <td>MODEL 3</td>\n",
       "      <td>Battery Electric Vehicle (BEV)</td>\n",
       "      <td>Clean Alternative Fuel Vehicle Eligible</td>\n",
       "      <td>322</td>\n",
       "      <td>0</td>\n",
       "      <td>12.0</td>\n",
       "      <td>124022020</td>\n",
       "      <td>POINT (-120.01454 47.83985)</td>\n",
       "      <td>PUD NO 1 OF CHELAN COUNTY</td>\n",
       "      <td>53007960302</td>\n",
       "    </tr>\n",
       "    <tr>\n",
       "      <th>3</th>\n",
       "      <td>5YJ3E1EA5J</td>\n",
       "      <td>Snohomish</td>\n",
       "      <td>Snohomish</td>\n",
       "      <td>WA</td>\n",
       "      <td>98290</td>\n",
       "      <td>2018</td>\n",
       "      <td>TESLA</td>\n",
       "      <td>MODEL 3</td>\n",
       "      <td>Battery Electric Vehicle (BEV)</td>\n",
       "      <td>Clean Alternative Fuel Vehicle Eligible</td>\n",
       "      <td>215</td>\n",
       "      <td>0</td>\n",
       "      <td>39.0</td>\n",
       "      <td>235141224</td>\n",
       "      <td>POINT (-122.09305 47.91265)</td>\n",
       "      <td>PUGET SOUND ENERGY INC</td>\n",
       "      <td>53061052105</td>\n",
       "    </tr>\n",
       "    <tr>\n",
       "      <th>4</th>\n",
       "      <td>1FADP5CU1E</td>\n",
       "      <td>Thurston</td>\n",
       "      <td>Tumwater</td>\n",
       "      <td>WA</td>\n",
       "      <td>98512</td>\n",
       "      <td>2014</td>\n",
       "      <td>FORD</td>\n",
       "      <td>C-MAX</td>\n",
       "      <td>Plug-in Hybrid Electric Vehicle (PHEV)</td>\n",
       "      <td>Not eligible due to low battery range</td>\n",
       "      <td>19</td>\n",
       "      <td>0</td>\n",
       "      <td>22.0</td>\n",
       "      <td>141584306</td>\n",
       "      <td>POINT (-122.92057 47.0031)</td>\n",
       "      <td>PUGET SOUND ENERGY INC</td>\n",
       "      <td>53067010920</td>\n",
       "    </tr>\n",
       "  </tbody>\n",
       "</table>\n",
       "</div>"
      ],
      "text/plain": [
       "   VIN (1-10)     County       City State  Postal Code  Model Year  \\\n",
       "0  WDC0G5EB7K     Louisa    Bumpass    VA        23024        2019   \n",
       "1  5YJYGDEE8L   Kittitas   Cle Elum    WA        98922        2020   \n",
       "2  5YJ3E1EBXL     Chelan     Chelan    WA        98816        2020   \n",
       "3  5YJ3E1EA5J  Snohomish  Snohomish    WA        98290        2018   \n",
       "4  1FADP5CU1E   Thurston   Tumwater    WA        98512        2014   \n",
       "\n",
       "            Make      Model                   Electric Vehicle Type  \\\n",
       "0  MERCEDES-BENZ  GLC-CLASS  Plug-in Hybrid Electric Vehicle (PHEV)   \n",
       "1          TESLA    MODEL Y          Battery Electric Vehicle (BEV)   \n",
       "2          TESLA    MODEL 3          Battery Electric Vehicle (BEV)   \n",
       "3          TESLA    MODEL 3          Battery Electric Vehicle (BEV)   \n",
       "4           FORD      C-MAX  Plug-in Hybrid Electric Vehicle (PHEV)   \n",
       "\n",
       "  Clean Alternative Fuel Vehicle (CAFV) Eligibility  Electric Range  \\\n",
       "0             Not eligible due to low battery range              10   \n",
       "1           Clean Alternative Fuel Vehicle Eligible             291   \n",
       "2           Clean Alternative Fuel Vehicle Eligible             322   \n",
       "3           Clean Alternative Fuel Vehicle Eligible             215   \n",
       "4             Not eligible due to low battery range              19   \n",
       "\n",
       "   Base MSRP  Legislative District  DOL Vehicle ID  \\\n",
       "0          0                   NaN       153874850   \n",
       "1          0                  13.0       109455524   \n",
       "2          0                  12.0       124022020   \n",
       "3          0                  39.0       235141224   \n",
       "4          0                  22.0       141584306   \n",
       "\n",
       "              Vehicle Location           Electric Utility  2020 Census Tract  \n",
       "0   POINT (-77.73727 37.96459)                        NaN        51109950101  \n",
       "1    POINT (-120.93943 47.195)     PUGET SOUND ENERGY INC        53037975104  \n",
       "2  POINT (-120.01454 47.83985)  PUD NO 1 OF CHELAN COUNTY        53007960302  \n",
       "3  POINT (-122.09305 47.91265)     PUGET SOUND ENERGY INC        53061052105  \n",
       "4   POINT (-122.92057 47.0031)     PUGET SOUND ENERGY INC        53067010920  "
      ]
     },
     "execution_count": 3,
     "metadata": {},
     "output_type": "execute_result"
    }
   ],
   "source": [
    "%%time\n",
    "df.head()"
   ]
  },
  {
   "cell_type": "code",
   "execution_count": 4,
   "id": "25ae599a-55e6-4a2d-bb15-43d2d296c9dd",
   "metadata": {
    "colab": {
     "base_uri": "https://localhost:8080/"
    },
    "id": "25ae599a-55e6-4a2d-bb15-43d2d296c9dd",
    "outputId": "eca561a9-0169-44d7-dfc6-971aeb8fc0e6"
   },
   "outputs": [
    {
     "name": "stdout",
     "output_type": "stream",
     "text": [
      "<class 'pandas.core.frame.DataFrame'>\n",
      "RangeIndex: 114600 entries, 0 to 114599\n",
      "Data columns (total 17 columns):\n",
      " #   Column                                             Non-Null Count   Dtype  \n",
      "---  ------                                             --------------   -----  \n",
      " 0   VIN (1-10)                                         114600 non-null  object \n",
      " 1   County                                             114600 non-null  object \n",
      " 2   City                                               114600 non-null  object \n",
      " 3   State                                              114600 non-null  object \n",
      " 4   Postal Code                                        114600 non-null  int64  \n",
      " 5   Model Year                                         114600 non-null  int64  \n",
      " 6   Make                                               114600 non-null  object \n",
      " 7   Model                                              114516 non-null  object \n",
      " 8   Electric Vehicle Type                              114600 non-null  object \n",
      " 9   Clean Alternative Fuel Vehicle (CAFV) Eligibility  114600 non-null  object \n",
      " 10  Electric Range                                     114600 non-null  int64  \n",
      " 11  Base MSRP                                          114600 non-null  int64  \n",
      " 12  Legislative District                               114312 non-null  float64\n",
      " 13  DOL Vehicle ID                                     114600 non-null  int64  \n",
      " 14  Vehicle Location                                   114570 non-null  object \n",
      " 15  Electric Utility                                   114153 non-null  object \n",
      " 16  2020 Census Tract                                  114600 non-null  int64  \n",
      "dtypes: float64(1), int64(6), object(10)\n",
      "memory usage: 14.9+ MB\n",
      "CPU times: total: 46.9 ms\n",
      "Wall time: 161 ms\n"
     ]
    }
   ],
   "source": [
    "%%time\n",
    "df.info()"
   ]
  },
  {
   "cell_type": "code",
   "execution_count": 5,
   "id": "edb1c90c-3cda-45e6-8db4-a688d0f2891a",
   "metadata": {},
   "outputs": [
    {
     "name": "stdout",
     "output_type": "stream",
     "text": [
      "CPU times: total: 15.6 ms\n",
      "Wall time: 58.1 ms\n"
     ]
    },
    {
     "data": {
      "text/html": [
       "<div>\n",
       "<style scoped>\n",
       "    .dataframe tbody tr th:only-of-type {\n",
       "        vertical-align: middle;\n",
       "    }\n",
       "\n",
       "    .dataframe tbody tr th {\n",
       "        vertical-align: top;\n",
       "    }\n",
       "\n",
       "    .dataframe thead th {\n",
       "        text-align: right;\n",
       "    }\n",
       "</style>\n",
       "<table border=\"1\" class=\"dataframe\">\n",
       "  <thead>\n",
       "    <tr style=\"text-align: right;\">\n",
       "      <th></th>\n",
       "      <th>Postal Code</th>\n",
       "      <th>Model Year</th>\n",
       "      <th>Electric Range</th>\n",
       "      <th>Base MSRP</th>\n",
       "      <th>Legislative District</th>\n",
       "      <th>DOL Vehicle ID</th>\n",
       "      <th>2020 Census Tract</th>\n",
       "    </tr>\n",
       "  </thead>\n",
       "  <tbody>\n",
       "    <tr>\n",
       "      <th>count</th>\n",
       "      <td>114600.000000</td>\n",
       "      <td>114600.000000</td>\n",
       "      <td>114600.000000</td>\n",
       "      <td>114600.000000</td>\n",
       "      <td>114312.000000</td>\n",
       "      <td>1.146000e+05</td>\n",
       "      <td>1.146000e+05</td>\n",
       "    </tr>\n",
       "    <tr>\n",
       "      <th>mean</th>\n",
       "      <td>98153.790471</td>\n",
       "      <td>2019.103464</td>\n",
       "      <td>84.953874</td>\n",
       "      <td>1741.790838</td>\n",
       "      <td>29.794519</td>\n",
       "      <td>2.010841e+08</td>\n",
       "      <td>5.296793e+10</td>\n",
       "    </tr>\n",
       "    <tr>\n",
       "      <th>std</th>\n",
       "      <td>2688.311829</td>\n",
       "      <td>2.918600</td>\n",
       "      <td>101.462639</td>\n",
       "      <td>10621.851421</td>\n",
       "      <td>14.703917</td>\n",
       "      <td>9.188550e+07</td>\n",
       "      <td>1.680116e+09</td>\n",
       "    </tr>\n",
       "    <tr>\n",
       "      <th>min</th>\n",
       "      <td>1730.000000</td>\n",
       "      <td>1997.000000</td>\n",
       "      <td>0.000000</td>\n",
       "      <td>0.000000</td>\n",
       "      <td>1.000000</td>\n",
       "      <td>4.777000e+03</td>\n",
       "      <td>1.081042e+09</td>\n",
       "    </tr>\n",
       "    <tr>\n",
       "      <th>25%</th>\n",
       "      <td>98052.000000</td>\n",
       "      <td>2017.000000</td>\n",
       "      <td>0.000000</td>\n",
       "      <td>0.000000</td>\n",
       "      <td>18.000000</td>\n",
       "      <td>1.501399e+08</td>\n",
       "      <td>5.303301e+10</td>\n",
       "    </tr>\n",
       "    <tr>\n",
       "      <th>50%</th>\n",
       "      <td>98119.000000</td>\n",
       "      <td>2020.000000</td>\n",
       "      <td>30.000000</td>\n",
       "      <td>0.000000</td>\n",
       "      <td>34.000000</td>\n",
       "      <td>1.939816e+08</td>\n",
       "      <td>5.303303e+10</td>\n",
       "    </tr>\n",
       "    <tr>\n",
       "      <th>75%</th>\n",
       "      <td>98370.000000</td>\n",
       "      <td>2022.000000</td>\n",
       "      <td>208.000000</td>\n",
       "      <td>0.000000</td>\n",
       "      <td>43.000000</td>\n",
       "      <td>2.205000e+08</td>\n",
       "      <td>5.305307e+10</td>\n",
       "    </tr>\n",
       "    <tr>\n",
       "      <th>max</th>\n",
       "      <td>99701.000000</td>\n",
       "      <td>2023.000000</td>\n",
       "      <td>337.000000</td>\n",
       "      <td>845000.000000</td>\n",
       "      <td>49.000000</td>\n",
       "      <td>4.792548e+08</td>\n",
       "      <td>5.603300e+10</td>\n",
       "    </tr>\n",
       "  </tbody>\n",
       "</table>\n",
       "</div>"
      ],
      "text/plain": [
       "         Postal Code     Model Year  Electric Range      Base MSRP  \\\n",
       "count  114600.000000  114600.000000   114600.000000  114600.000000   \n",
       "mean    98153.790471    2019.103464       84.953874    1741.790838   \n",
       "std      2688.311829       2.918600      101.462639   10621.851421   \n",
       "min      1730.000000    1997.000000        0.000000       0.000000   \n",
       "25%     98052.000000    2017.000000        0.000000       0.000000   \n",
       "50%     98119.000000    2020.000000       30.000000       0.000000   \n",
       "75%     98370.000000    2022.000000      208.000000       0.000000   \n",
       "max     99701.000000    2023.000000      337.000000  845000.000000   \n",
       "\n",
       "       Legislative District  DOL Vehicle ID  2020 Census Tract  \n",
       "count         114312.000000    1.146000e+05       1.146000e+05  \n",
       "mean              29.794519    2.010841e+08       5.296793e+10  \n",
       "std               14.703917    9.188550e+07       1.680116e+09  \n",
       "min                1.000000    4.777000e+03       1.081042e+09  \n",
       "25%               18.000000    1.501399e+08       5.303301e+10  \n",
       "50%               34.000000    1.939816e+08       5.303303e+10  \n",
       "75%               43.000000    2.205000e+08       5.305307e+10  \n",
       "max               49.000000    4.792548e+08       5.603300e+10  "
      ]
     },
     "execution_count": 5,
     "metadata": {},
     "output_type": "execute_result"
    }
   ],
   "source": [
    "%%time\n",
    "df.describe()"
   ]
  },
  {
   "cell_type": "markdown",
   "id": "11446956-823f-4d97-842b-25641b82096e",
   "metadata": {
    "id": "11446956-823f-4d97-842b-25641b82096e"
   },
   "source": [
    "## EDA on the filtered DF -> State = Washington"
   ]
  },
  {
   "cell_type": "code",
   "execution_count": 6,
   "id": "25d61c31-229a-4050-938e-a3de94aa182d",
   "metadata": {
    "id": "25d61c31-229a-4050-938e-a3de94aa182d"
   },
   "outputs": [
    {
     "name": "stdout",
     "output_type": "stream",
     "text": [
      "CPU times: total: 0 ns\n",
      "Wall time: 27.2 ms\n"
     ]
    }
   ],
   "source": [
    "%%time\n",
    "### Filter dfEV to just values in WA and save into a new dataframe\n",
    "df1 = df[df['State']=='WA']"
   ]
  },
  {
   "cell_type": "code",
   "execution_count": 12,
   "id": "JjAq0Oc9LpwF",
   "metadata": {
    "colab": {
     "base_uri": "https://localhost:8080/"
    },
    "id": "JjAq0Oc9LpwF",
    "outputId": "0451a52f-1425-441f-9773-d96760238879"
   },
   "outputs": [
    {
     "name": "stdout",
     "output_type": "stream",
     "text": [
      "CPU times: total: 15.6 ms\n",
      "Wall time: 153 ms\n"
     ]
    },
    {
     "data": {
      "text/plain": [
       "VIN (1-10)                                             0\n",
       "County                                                 0\n",
       "City                                                   0\n",
       "State                                                  0\n",
       "Postal Code                                            0\n",
       "Model Year                                             0\n",
       "Make                                                   0\n",
       "Model                                                 84\n",
       "Electric Vehicle Type                                  0\n",
       "Clean Alternative Fuel Vehicle (CAFV) Eligibility      0\n",
       "Electric Range                                         0\n",
       "Base MSRP                                              0\n",
       "Legislative District                                 288\n",
       "DOL Vehicle ID                                         0\n",
       "Vehicle Location                                      30\n",
       "Electric Utility                                     447\n",
       "2020 Census Tract                                      0\n",
       "dtype: int64"
      ]
     },
     "execution_count": 12,
     "metadata": {},
     "output_type": "execute_result"
    }
   ],
   "source": [
    "%%time\n",
    "### Check for Null values -> the whole df\n",
    "df.isna().sum()"
   ]
  },
  {
   "cell_type": "code",
   "execution_count": 13,
   "id": "L0vDfsu7Nurd",
   "metadata": {
    "colab": {
     "base_uri": "https://localhost:8080/"
    },
    "id": "L0vDfsu7Nurd",
    "outputId": "85cc2af1-7861-4a65-f581-5193a3f5208c"
   },
   "outputs": [
    {
     "name": "stdout",
     "output_type": "stream",
     "text": [
      "CPU times: total: 0 ns\n",
      "Wall time: 9.52 ms\n"
     ]
    },
    {
     "data": {
      "text/plain": [
       "Seattle                20619\n",
       "Bellevue                5991\n",
       "Redmond                 4282\n",
       "Vancouver               4108\n",
       "Kirkland                3639\n",
       "                       ...  \n",
       "Fort George G Meade        1\n",
       "Honolulu                   1\n",
       "Fairbanks                  1\n",
       "Warner Robins              1\n",
       "Hartline                   1\n",
       "Name: City, Length: 639, dtype: int64"
      ]
     },
     "execution_count": 13,
     "metadata": {},
     "output_type": "execute_result"
    }
   ],
   "source": [
    "%%time\n",
    "##Value Counts\n",
    "df.City.value_counts()"
   ]
  },
  {
   "cell_type": "code",
   "execution_count": 10,
   "id": "34823132-dc2c-49c6-86c7-1ae46035384d",
   "metadata": {
    "colab": {
     "base_uri": "https://localhost:8080/"
    },
    "id": "34823132-dc2c-49c6-86c7-1ae46035384d",
    "outputId": "208a7094-eb39-4ff5-e525-a13e5ab71c86"
   },
   "outputs": [
    {
     "name": "stdout",
     "output_type": "stream",
     "text": [
      "+------------+-----+\n",
      "|      County|count|\n",
      "+------------+-----+\n",
      "|        King|60005|\n",
      "|   Snohomish|12686|\n",
      "|      Pierce| 8670|\n",
      "|       Clark| 6824|\n",
      "|    Thurston| 4179|\n",
      "|      Kitsap| 3880|\n",
      "|     Whatcom| 2873|\n",
      "|     Spokane| 2828|\n",
      "|      Benton| 1394|\n",
      "|      Island| 1297|\n",
      "|      Skagit| 1240|\n",
      "|     Clallam|  737|\n",
      "|    San Juan|  724|\n",
      "|   Jefferson|  699|\n",
      "|      Chelan|  653|\n",
      "|      Yakima|  633|\n",
      "|     Cowlitz|  575|\n",
      "|       Mason|  554|\n",
      "|       Lewis|  437|\n",
      "|Grays Harbor|  397|\n",
      "+------------+-----+\n",
      "only showing top 20 rows\n",
      "\n"
     ]
    }
   ],
   "source": [
    "### County information\n",
    "dfWA.groupBy('County').count().orderBy('count', ascending=False).show()"
   ]
  },
  {
   "cell_type": "code",
   "execution_count": 11,
   "id": "210b51e7-7fec-42b1-a5d8-15c2dc2dbe8a",
   "metadata": {
    "colab": {
     "base_uri": "https://localhost:8080/"
    },
    "id": "210b51e7-7fec-42b1-a5d8-15c2dc2dbe8a",
    "outputId": "e0e38b7e-0f37-4221-83bf-f72385eb487c"
   },
   "outputs": [
    {
     "name": "stdout",
     "output_type": "stream",
     "text": [
      "+--------+-----+\n",
      "|    City|count|\n",
      "+--------+-----+\n",
      "| Seattle|20591|\n",
      "|Bellevue| 5986|\n",
      "+--------+-----+\n",
      "only showing top 2 rows\n",
      "\n"
     ]
    },
    {
     "data": {
      "text/plain": [
       "441"
      ]
     },
     "execution_count": 11,
     "metadata": {},
     "output_type": "execute_result"
    }
   ],
   "source": [
    "### City Information\n",
    "dfWA.groupBy('City').count().orderBy('count', ascending=False).show(2)\n",
    "\n",
    "### Count of distinct cities \n",
    "dfWA.select('City').distinct().count()"
   ]
  },
  {
   "cell_type": "code",
   "execution_count": 12,
   "id": "1f62e291-3765-44d6-b015-6d002768080c",
   "metadata": {
    "colab": {
     "base_uri": "https://localhost:8080/",
     "height": 283
    },
    "id": "1f62e291-3765-44d6-b015-6d002768080c",
    "outputId": "a2f85d8c-f838-436a-b420-caa891efd489"
   },
   "outputs": [
    {
     "data": {
      "text/plain": [
       "<matplotlib.axes._subplots.AxesSubplot at 0x7f5498862df0>"
      ]
     },
     "execution_count": 12,
     "metadata": {},
     "output_type": "execute_result"
    },
    {
     "data": {
      "image/png": "[encoded data removed]",
      "text/plain": [
       "<Figure size 432x288 with 1 Axes>"
      ]
     },
     "metadata": {
      "needs_background": "light"
     },
     "output_type": "display_data"
    }
   ],
   "source": [
    "### CAR MAKERS: Value Counts and use pnadas to plot\n",
    "makers = dfWA.groupBy('Make').count().orderBy('count', ascending=False)\n",
    "p_makers = makers.toPandas()\n",
    "p_makers = p_makers.set_index('Make')\n",
    "p_makers.plot(kind='barh')"
   ]
  },
  {
   "cell_type": "code",
   "execution_count": 17,
   "id": "df8d7415-cd8d-42a4-a93b-842c48cb87fd",
   "metadata": {},
   "outputs": [
    {
     "name": "stdout",
     "output_type": "stream",
     "text": [
      "CPU times: total: 46.9 ms\n",
      "Wall time: 1.38 s\n"
     ]
    },
    {
     "data": {
      "text/plain": [
       "<AxesSubplot:>"
      ]
     },
     "execution_count": 17,
     "metadata": {},
     "output_type": "execute_result"
    },
    {
     "data": {
      "image/png": "[encoded data removed]",
      "text/plain": [
       "<Figure size 640x480 with 1 Axes>"
      ]
     },
     "metadata": {},
     "output_type": "display_data"
    }
   ],
   "source": [
    "%%time\n",
    "df1 = df.Model.value_counts().sort_values(ascending=False)\n",
    "df1[:10].plot(kind='barh')"
   ]
  },
  {
   "cell_type": "code",
   "execution_count": 13,
   "id": "Bct449wjYKqZ",
   "metadata": {
    "colab": {
     "base_uri": "https://localhost:8080/",
     "height": 282
    },
    "id": "Bct449wjYKqZ",
    "outputId": "4b8fec7e-7f89-4f0f-9c65-d699d1708924"
   },
   "outputs": [
    {
     "data": {
      "text/plain": [
       "<matplotlib.axes._subplots.AxesSubplot at 0x7f549822fc70>"
      ]
     },
     "execution_count": 13,
     "metadata": {},
     "output_type": "execute_result"
    },
    {
     "data": {
      "image/png": "[encoded data removed]",
      "text/plain": [
       "<Figure size 432x288 with 1 Axes>"
      ]
     },
     "metadata": {
      "needs_background": "light"
     },
     "output_type": "display_data"
    }
   ],
   "source": [
    "### CAR MODELS: Value Counts and use paadas to plot\n",
    "models = dfWA.groupBy('Model').count().orderBy('count', ascending=False)\n",
    "p_models = models.toPandas()\n",
    "p_models.set_index('Model', inplace=True)\n",
    "p_models[:10].plot(kind='barh')"
   ]
  },
  {
   "cell_type": "code",
   "execution_count": 15,
   "id": "-jBFHuWzebqw",
   "metadata": {
    "colab": {
     "base_uri": "https://localhost:8080/"
    },
    "id": "-jBFHuWzebqw",
    "outputId": "2fbff9b6-fc0a-49c5-d030-94fe026f3f83"
   },
   "outputs": [
    {
     "name": "stdout",
     "output_type": "stream",
     "text": [
      "+--------------+-----+\n",
      "|Electric Range|count|\n",
      "+--------------+-----+\n",
      "|             0|41429|\n",
      "|           215| 6213|\n",
      "+--------------+-----+\n",
      "only showing top 2 rows\n",
      "\n"
     ]
    }
   ],
   "source": [
    "### TODO:\n",
    "# Predict 'Electric Range' to change the 0 range values\n",
    "range = dfWA.groupBy('Electric Range').count().orderBy('count', ascending=False)\n",
    "range.show(2)\n"
   ]
  },
  {
   "cell_type": "markdown",
   "id": "h1a_a-WuG42Z",
   "metadata": {
    "id": "h1a_a-WuG42Z"
   },
   "source": [
    "### Predicting Missing Electric Range"
   ]
  },
  {
   "cell_type": "code",
   "execution_count": 16,
   "id": "TFKulqbsG_L9",
   "metadata": {
    "id": "TFKulqbsG_L9"
   },
   "outputs": [],
   "source": [
    "from pyspark.ml.feature import OneHotEncoder, StringIndexer\n",
    "from pyspark.ml.regression import LinearRegression\n",
    "from pyspark.ml.linalg import Vectors\n",
    "from pyspark.ml.feature import VectorAssembler\n",
    "from pyspark.ml.evaluation import RegressionEvaluator\n",
    "from pyspark.sql.functions import isnan, when, count, col, round\n",
    "from pyspark.sql.types import IntegerType"
   ]
  },
  {
   "cell_type": "code",
   "execution_count": 17,
   "id": "4VOaXRH9Ox2K",
   "metadata": {
    "id": "4VOaXRH9Ox2K"
   },
   "outputs": [],
   "source": [
    "df_original = dfWA\n",
    "# Define the input columns for the string indexer\n",
    "input_cols = ['County', 'City', 'State', 'Make', 'Model',\n",
    "              'Clean Alternative Fuel Vehicle (CAFV) Eligibility', 'Electric Range',\n",
    "              'Legislative District', 'Vehicle Location', 'Electric Utility']\n",
    "\n",
    "# Define the output columns for the string indexer\n",
    "output_cols = [col + \"_indexed\" for col in input_cols]\n",
    "\n",
    "# Create the string indexer\n",
    "string_indexer = StringIndexer(inputCols=input_cols, outputCols=output_cols)\n",
    "\n",
    "# Fit the string indexer to the data\n",
    "string_indexer_model = string_indexer.fit(df_original)\n",
    "\n",
    "# Transform the data to create the indexed columns\n",
    "df_indexed = string_indexer_model.transform(df_original)\n",
    "\n",
    "\n",
    "# Define the input columns for the one-hot encoder\n",
    "input_cols = output_cols\n",
    "\n",
    "# Define the output columns for the one-hot encoder\n",
    "output_cols_enc = [col + \"_encoded\" for col in input_cols]\n",
    "\n",
    "# Create the one-hot encoder\n",
    "encoder = OneHotEncoder(inputCols=input_cols, outputCols=output_cols_enc)\n",
    "\n",
    "# Transform the data to create the one-hot encoded columns\n",
    "encoder.setDropLast(False)\n",
    "ohe = encoder.fit(df_indexed) \n",
    "df_indexed = ohe.transform(df_indexed)\n",
    "df_encoded = df_indexed\n",
    "\n",
    "\n",
    "### vector assembler\n",
    "input_cols = output_cols_enc\n",
    "vector_assembler = VectorAssembler(inputCols=input_cols, outputCol=\"features\")\n",
    "df_original=vector_assembler.transform(df_encoded)\n"
   ]
  },
  {
   "cell_type": "code",
   "execution_count": 18,
   "id": "yZl8fnT8JrGB",
   "metadata": {
    "id": "yZl8fnT8JrGB"
   },
   "outputs": [],
   "source": [
    "# Split the dataset into training and test sets\n",
    "training_data, test_data = df_original.randomSplit([0.7, 0.3], seed=123)\n",
    "\n",
    "# Train the model\n",
    "lr = LinearRegression(featuresCol='features', labelCol='Electric Range', maxIter=10, regParam=0.3, elasticNetParam=0.8)\n",
    "model = lr.fit(training_data)\n",
    "\n",
    "# Make predictions on the test set\n",
    "predictions = model.transform(test_data)"
   ]
  },
  {
   "cell_type": "code",
   "execution_count": 19,
   "id": "hSf6c3i6Nxry",
   "metadata": {
    "colab": {
     "base_uri": "https://localhost:8080/"
    },
    "id": "hSf6c3i6Nxry",
    "outputId": "d3a80338-c630-4055-b915-d86db88933c9"
   },
   "outputs": [
    {
     "data": {
      "text/plain": [
       "4.100195931768802"
      ]
     },
     "execution_count": 19,
     "metadata": {},
     "output_type": "execute_result"
    }
   ],
   "source": [
    "# Evaluate the model\n",
    "evaluator = RegressionEvaluator(labelCol=\"Electric Range\", predictionCol=\"prediction\", metricName=\"rmse\")\n",
    "rmse = evaluator.evaluate(predictions)\n",
    "rmse"
   ]
  },
  {
   "cell_type": "code",
   "execution_count": 20,
   "id": "y6k6KybOTHZd",
   "metadata": {
    "colab": {
     "base_uri": "https://localhost:8080/"
    },
    "id": "y6k6KybOTHZd",
    "outputId": "2daff7f9-a19b-4ede-e1ba-0e461c780853"
   },
   "outputs": [
    {
     "name": "stdout",
     "output_type": "stream",
     "text": [
      "+--------------+------------------+\n",
      "|Electric Range|prediction        |\n",
      "+--------------+------------------+\n",
      "|291           |287.31510790199917|\n",
      "|322           |319.7260079361203 |\n",
      "|215           |213.85901205156904|\n",
      "|19            |18.902792529801914|\n",
      "|19            |21.49640674258343 |\n",
      "|151           |148.0679790965724 |\n",
      "|204           |199.75048255729482|\n",
      "|150           |147.21145424755412|\n",
      "|322           |319.7260079361203 |\n",
      "|150           |147.21145424755412|\n",
      "+--------------+------------------+\n",
      "only showing top 10 rows\n",
      "\n"
     ]
    }
   ],
   "source": [
    "# Make predictions final df\n",
    "predictions1 = model.transform(df_original)\n",
    "predictions1.select('Electric Range', 'prediction').show(10, False)\n",
    "\n",
    "### Prepare the final DF\n",
    "df_final = predictions1.select('County','City','State','Make','Model'\\\n",
    "                               ,'Postal Code','Model Year','Electric Vehicle Type'\\\n",
    "                               ,'Base MSRP','DOL Vehicle ID','2020 Census Tract'\\\n",
    "                               ,'Clean Alternative Fuel Vehicle (CAFV) Eligibility'\\\n",
    "                               ,'Legislative District','Vehicle Location','Electric Utility'\\\n",
    "                               ,'Electric Range','prediction')\n",
    "\n",
    "df_final = df_final.withColumn('Range', when(col('Electric Range')!=0,col('Electric Range')).otherwise(df_final.prediction))\n",
    "df_final = df_final.withColumn(\"Range\", df_final[\"Range\"].cast(IntegerType()))"
   ]
  },
  {
   "cell_type": "code",
   "execution_count": 21,
   "id": "xLhnCNFPak3e",
   "metadata": {
    "colab": {
     "base_uri": "https://localhost:8080/"
    },
    "id": "xLhnCNFPak3e",
    "outputId": "82c51bd7-e278-417a-a412-7ad715f6416d"
   },
   "outputs": [
    {
     "name": "stdout",
     "output_type": "stream",
     "text": [
      "+-----------+------------+-----+----------+--------+-----------+----------+---------------------+---------+--------------+-----------------+-------------------------------------------------+--------------------+--------------------+--------------------+--------------+------------------+-----+\n",
      "|     County|        City|State|      Make|   Model|Postal Code|Model Year|Electric Vehicle Type|Base MSRP|DOL Vehicle ID|2020 Census Tract|Clean Alternative Fuel Vehicle (CAFV) Eligibility|Legislative District|    Vehicle Location|    Electric Utility|Electric Range|        prediction|Range|\n",
      "+-----------+------------+-----+----------+--------+-----------+----------+---------------------+---------+--------------+-----------------+-------------------------------------------------+--------------------+--------------------+--------------------+--------------+------------------+-----+\n",
      "|   Kittitas|    Cle Elum|   WA|     TESLA| MODEL Y|      98922|      2020| Battery Electric ...|        0|     109455524|      53037975104|                             Clean Alternative...|                  13|POINT (-120.93943...|PUGET SOUND ENERG...|           291|287.31510790199917|  291|\n",
      "|     Chelan|      Chelan|   WA|     TESLA| MODEL 3|      98816|      2020| Battery Electric ...|        0|     124022020|      53007960302|                             Clean Alternative...|                  12|POINT (-120.01454...|PUD NO 1 OF CHELA...|           322| 319.7260079361203|  322|\n",
      "|  Snohomish|   Snohomish|   WA|     TESLA| MODEL 3|      98290|      2018| Battery Electric ...|        0|     235141224|      53061052105|                             Clean Alternative...|                  39|POINT (-122.09305...|PUGET SOUND ENERG...|           215|213.85901205156904|  215|\n",
      "|   Thurston|    Tumwater|   WA|      FORD|   C-MAX|      98512|      2014| Plug-in Hybrid El...|        0|     141584306|      53067010920|                             Not eligible due ...|                  22|POINT (-122.92057...|PUGET SOUND ENERG...|            19|18.902792529801914|   19|\n",
      "|     Kitsap|    Kingston|   WA|      FORD|  FUSION|      98346|      2013| Plug-in Hybrid El...|        0|     244714032|      53035090102|                             Not eligible due ...|                  23|POINT (-122.49771...|PUGET SOUND ENERG...|            19| 21.49640674258343|   19|\n",
      "|       King|     Seattle|   WA|    NISSAN|    LEAF|      98115|      2018| Battery Electric ...|        0|     111913735|      53033002100|                             Clean Alternative...|                  46|POINT (-122.31765...|CITY OF SEATTLE -...|           151| 148.0679790965724|  151|\n",
      "|     Skagit|Mount Vernon|   WA|      AUDI|  E-TRON|      98273|      2019| Battery Electric ...|        0|     477309276|      53057952304|                             Clean Alternative...|                  40|POINT (-122.33891...|PUGET SOUND ENERG...|           204|199.75048255729482|  204|\n",
      "|     Kitsap|Port Orchard|   WA|    NISSAN|    LEAF|      98366|      2019| Battery Electric ...|        0|       1880896|      53035092500|                             Clean Alternative...|                  26|POINT (-122.63847...|PUGET SOUND ENERG...|           150|147.21145424755412|  150|\n",
      "|  Snohomish|     Bothell|   WA|     TESLA| MODEL 3|      98012|      2020| Battery Electric ...|        0|       8038117|      53061051936|                             Clean Alternative...|                   1|POINT (-122.21061...|PUGET SOUND ENERG...|           322| 319.7260079361203|  322|\n",
      "|     Yakima|      Tieton|   WA|    NISSAN|    LEAF|      98947|      2019| Battery Electric ...|        0|       8518268|      53077002900|                             Clean Alternative...|                  14|POINT (-120.75541...|          PACIFICORP|           150|147.21145424755412|  150|\n",
      "|  Snohomish|     Edmonds|   WA|     TESLA| MODEL 3|      98026|      2018| Battery Electric ...|        0|     227624197|      53061050200|                             Clean Alternative...|                  21|POINT (-122.31768...|PUGET SOUND ENERG...|           215|213.85901205156904|  215|\n",
      "|Walla Walla| Walla Walla|   WA|       KIA|    NIRO|      99362|      2018| Plug-in Hybrid El...|        0|     336032735|      53071920902|                             Not eligible due ...|                  16|POINT (-118.34261...|          PACIFICORP|            26| 33.03087436190749|   26|\n",
      "|     Kitsap|Port Orchard|   WA|    NISSAN|    LEAF|      98367|      2018| Battery Electric ...|        0|     477961746|      53035092101|                             Clean Alternative...|                  26|POINT (-122.65745...|PUGET SOUND ENERG...|           151| 148.0679790965724|  151|\n",
      "|     Kitsap|Port Orchard|   WA|    NISSAN|    LEAF|      98367|      2018| Battery Electric ...|        0|     292189299|      53035092704|                             Clean Alternative...|                  26|POINT (-122.65745...|PUGET SOUND ENERG...|           151| 148.0679790965724|  151|\n",
      "|Walla Walla| Walla Walla|   WA|    NISSAN|    LEAF|      99362|      2012| Battery Electric ...|        0|     193763377|      53071920702|                             Clean Alternative...|                  16|POINT (-118.34261...|          PACIFICORP|            73| 75.34900177847942|   73|\n",
      "|       King|      Vashon|   WA|    NISSAN|    LEAF|      98070|      2015| Battery Electric ...|        0|     107310661|      53033027701|                             Clean Alternative...|                  34|POINT (-122.4573 ...|PUGET SOUND ENERG...|            84| 85.73511094947855|   84|\n",
      "|  Snohomish|     Edmonds|   WA|     TESLA| MODEL 3|      98026|      2019| Battery Electric ...|        0|     277369837|      53061050200|                             Clean Alternative...|                  21|POINT (-122.31768...|PUGET SOUND ENERG...|           220|220.12502603651407|  220|\n",
      "|    Stevens|        Rice|   WA| CHEVROLET|BOLT EUV|      99167|      2023| Battery Electric ...|        0|     220635467|      53065950102|                             Eligibility unkno...|                   7|POINT (-118.16165...|         AVISTA CORP|             0|-4.234770394771289|   -4|\n",
      "|  Snohomish|    Mukilteo|   WA|VOLKSWAGEN|  E-GOLF|      98275|      2017| Battery Electric ...|        0|     152385635|      53061042006|                             Clean Alternative...|                  21|POINT (-122.29196...|PUGET SOUND ENERG...|           125|125.46458301662506|  125|\n",
      "|   Thurston|     Olympia|   WA|    NISSAN|    LEAF|      98506|      2016| Battery Electric ...|        0|     231471747|      53067010200|                             Clean Alternative...|                  22|POINT (-122.87741...|PUGET SOUND ENERG...|            84| 85.73511094947855|   84|\n",
      "+-----------+------------+-----+----------+--------+-----------+----------+---------------------+---------+--------------+-----------------+-------------------------------------------------+--------------------+--------------------+--------------------+--------------+------------------+-----+\n",
      "only showing top 20 rows\n",
      "\n"
     ]
    }
   ],
   "source": [
    "df_final.show()"
   ]
  },
  {
   "cell_type": "code",
   "execution_count": 22,
   "id": "3XXHh2LLnt66",
   "metadata": {
    "id": "3XXHh2LLnt66"
   },
   "outputs": [],
   "source": [
    "df_final2 = df_final.select('County','City','State','Make','Model'\\\n",
    "                               ,'Postal Code','Model Year','Electric Vehicle Type'\\\n",
    "                               ,'Base MSRP','DOL Vehicle ID','2020 Census Tract'\\\n",
    "                               ,'Clean Alternative Fuel Vehicle (CAFV) Eligibility'\\\n",
    "                               ,'Legislative District','Vehicle Location','Electric Utility'\\\n",
    "                               ,'Range')\n",
    "\n",
    "df_original1 = df_final2"
   ]
  },
  {
   "cell_type": "code",
   "execution_count": 23,
   "id": "hAwRT1-Lnv1k",
   "metadata": {
    "colab": {
     "base_uri": "https://localhost:8080/"
    },
    "id": "hAwRT1-Lnv1k",
    "outputId": "21207d54-b31d-42e2-b0a4-a0c5cbf17bd4"
   },
   "outputs": [
    {
     "data": {
      "text/plain": [
       "DataFrame[County: string, City: string, State: string, Make: string, Model: string, Postal Code: int, Model Year: int, Electric Vehicle Type: string, Base MSRP: int, DOL Vehicle ID: int, 2020 Census Tract: bigint, Clean Alternative Fuel Vehicle (CAFV) Eligibility: string, Legislative District: int, Vehicle Location: string, Electric Utility: string, Range: int]"
      ]
     },
     "execution_count": 23,
     "metadata": {},
     "output_type": "execute_result"
    }
   ],
   "source": [
    "df_original1"
   ]
  },
  {
   "cell_type": "code",
   "execution_count": 24,
   "id": "brHuBaixl6Dz",
   "metadata": {
    "colab": {
     "base_uri": "https://localhost:8080/"
    },
    "id": "brHuBaixl6Dz",
    "outputId": "5334487f-34fd-42bb-9d7a-f437670bed7d"
   },
   "outputs": [
    {
     "name": "stdout",
     "output_type": "stream",
     "text": [
      "+-----+------+------------------+\n",
      "|Range|Range2|        prediction|\n",
      "+-----+------+------------------+\n",
      "|  291|   291|289.49987707436276|\n",
      "|  322|   322|319.58925959068966|\n",
      "|  215|   215|215.11917894013942|\n",
      "|   19|    19|18.712095135877192|\n",
      "|   19|    19|18.712095135877192|\n",
      "|  151|   151|147.74532000004365|\n",
      "|  204|   204|197.42674799233953|\n",
      "|  150|   150|146.88498113922685|\n",
      "|  322|   322|319.58925959068966|\n",
      "|  150|   150|146.88498113922685|\n",
      "|  215|   215|215.11917894013942|\n",
      "|   26|    26|34.046511688359345|\n",
      "|  151|   151|147.74532000004365|\n",
      "|  151|   151|147.74532000004365|\n",
      "|   73|    73|  74.7028291742485|\n",
      "|   84|    84| 84.11257000450566|\n",
      "|  220|   220| 220.3926068215619|\n",
      "|   -4|     0|0.7952274729847915|\n",
      "|  125|   125| 120.3947034334201|\n",
      "|   84|    84| 84.11257000450566|\n",
      "+-----+------+------------------+\n",
      "only showing top 20 rows\n",
      "\n"
     ]
    }
   ],
   "source": [
    "df_final2 = df_final.select('County','City','State','Make','Model'\\\n",
    "                               ,'Postal Code','Model Year','Electric Vehicle Type'\\\n",
    "                               ,'Base MSRP','DOL Vehicle ID','2020 Census Tract'\\\n",
    "                               ,'Clean Alternative Fuel Vehicle (CAFV) Eligibility'\\\n",
    "                               ,'Legislative District','Vehicle Location','Electric Utility'\\\n",
    "                               ,'Range')\n",
    "\n",
    "df_original1 = df_final2\n",
    "# Define the input columns for the string indexer\n",
    "input_cols = ['County', 'City', 'State', 'Make', 'Model',\n",
    "              'Clean Alternative Fuel Vehicle (CAFV) Eligibility','Range',\n",
    "              'Legislative District', 'Vehicle Location', 'Electric Utility']\n",
    "\n",
    "# Define the output columns for the string indexer\n",
    "output_cols = [col + \"_indexed\" for col in input_cols]\n",
    "\n",
    "# Create the string indexer\n",
    "string_indexer = StringIndexer(inputCols=input_cols, outputCols=output_cols)\n",
    "\n",
    "# Fit the string indexer to the data\n",
    "string_indexer_model = string_indexer.fit(df_original1)\n",
    "\n",
    "# Transform the data to create the indexed columns\n",
    "df_indexed = string_indexer_model.transform(df_original1)\n",
    "\n",
    "\n",
    "# Define the input columns for the one-hot encoder\n",
    "input_cols = output_cols\n",
    "\n",
    "# Define the output columns for the one-hot encoder\n",
    "output_cols_enc = [col + \"_encoded\" for col in input_cols]\n",
    "\n",
    "# Create the one-hot encoder\n",
    "encoder = OneHotEncoder(inputCols=input_cols, outputCols=output_cols_enc)\n",
    "\n",
    "# Transform the data to create the one-hot encoded columns\n",
    "encoder.setDropLast(False)\n",
    "ohe = encoder.fit(df_indexed) \n",
    "df_indexed = ohe.transform(df_indexed)\n",
    "df_encoded = df_indexed\n",
    "\n",
    "\n",
    "### vector assembler\n",
    "input_cols = output_cols_enc\n",
    "vector_assembler = VectorAssembler(inputCols=input_cols, outputCol=\"features\")\n",
    "df_original1=vector_assembler.transform(df_encoded)\n",
    "\n",
    "# Split the dataset into training and test sets\n",
    "training_data, test_data = df_original1.randomSplit([0.7, 0.3], seed=123)\n",
    "\n",
    "# Train the model\n",
    "lr = LinearRegression(featuresCol='features', labelCol='Range', maxIter=10, regParam=0.3, elasticNetParam=0.8)\n",
    "model = lr.fit(training_data)\n",
    "\n",
    "# Make predictions on the test set\n",
    "predictions1 = model.transform(test_data)\n",
    "\n",
    "# Make predictions final df\n",
    "predictions2 = model.transform(df_original1)\n",
    "\n",
    "### Prepare the final DF\n",
    "df_final1 = predictions2.select('County','City','State','Make','Model'\\\n",
    "                               ,'Postal Code','Model Year','Electric Vehicle Type'\\\n",
    "                               ,'Base MSRP','DOL Vehicle ID','2020 Census Tract'\\\n",
    "                               ,'Clean Alternative Fuel Vehicle (CAFV) Eligibility'\\\n",
    "                               ,'Legislative District','Vehicle Location','Electric Utility'\\\n",
    "                               ,'Range','prediction')\n",
    "\n",
    "df_final1 = df_final1.withColumn('Range2', when(col('Range')>0,col('Range')).otherwise(0))\n",
    "df_final1 = df_final1.withColumn(\"Range2\", df_final1[\"Range2\"].cast(IntegerType()))\n",
    "df_final1.select('Range','Range2','prediction').show()"
   ]
  },
  {
   "cell_type": "code",
   "execution_count": 25,
   "id": "Hr7ywRqNm4_Q",
   "metadata": {
    "colab": {
     "base_uri": "https://localhost:8080/"
    },
    "id": "Hr7ywRqNm4_Q",
    "outputId": "ec277658-f2f9-4ac3-ae67-af516e2813c6"
   },
   "outputs": [
    {
     "data": {
      "text/plain": [
       "3.690646500068349"
      ]
     },
     "execution_count": 25,
     "metadata": {},
     "output_type": "execute_result"
    }
   ],
   "source": [
    "# Evaluate the model\n",
    "evaluator = RegressionEvaluator(labelCol=\"Range\", predictionCol=\"prediction\", metricName=\"rmse\")\n",
    "rmse = evaluator.evaluate(predictions2)\n",
    "rmse"
   ]
  },
  {
   "cell_type": "code",
   "execution_count": 26,
   "id": "0UbXdLGHm7K2",
   "metadata": {
    "colab": {
     "base_uri": "https://localhost:8080/"
    },
    "id": "0UbXdLGHm7K2",
    "outputId": "85fe7fd8-1b4a-4e10-a0f5-9e42c06e364d"
   },
   "outputs": [
    {
     "data": {
      "text/plain": [
       "21544"
      ]
     },
     "execution_count": 26,
     "metadata": {},
     "output_type": "execute_result"
    }
   ],
   "source": [
    "df_final1.filter(col('Range2')==0).count()"
   ]
  },
  {
   "cell_type": "code",
   "execution_count": 28,
   "id": "yOuOP_O2_TA1",
   "metadata": {
    "id": "yOuOP_O2_TA1"
   },
   "outputs": [],
   "source": [
    "from pyspark.sql.functions import greatest"
   ]
  },
  {
   "cell_type": "code",
   "execution_count": 29,
   "id": "7aP6JoBG_DH0",
   "metadata": {
    "id": "7aP6JoBG_DH0"
   },
   "outputs": [],
   "source": [
    "df_final1 = df_final1.withColumn(\"Max_Range\", greatest(df_final1[\"Range\"], df_final1[\"Range2\"], df_final1[\"prediction\"]))"
   ]
  },
  {
   "cell_type": "code",
   "execution_count": 27,
   "id": "vxjbAVnC-eLb",
   "metadata": {
    "colab": {
     "base_uri": "https://localhost:8080/"
    },
    "id": "vxjbAVnC-eLb",
    "outputId": "6a432029-cb12-482f-dba4-bf9054f6b547"
   },
   "outputs": [
    {
     "name": "stdout",
     "output_type": "stream",
     "text": [
      "+---------+-----------------+-----+----------+--------------+-----------+----------+---------------------+---------+--------------+-----------------+-------------------------------------------------+--------------------+--------------------+--------------------+-----+-------------------+------+\n",
      "|   County|             City|State|      Make|         Model|Postal Code|Model Year|Electric Vehicle Type|Base MSRP|DOL Vehicle ID|2020 Census Tract|Clean Alternative Fuel Vehicle (CAFV) Eligibility|Legislative District|    Vehicle Location|    Electric Utility|Range|         prediction|Range2|\n",
      "+---------+-----------------+-----+----------+--------------+-----------+----------+---------------------+---------+--------------+-----------------+-------------------------------------------------+--------------------+--------------------+--------------------+-----+-------------------+------+\n",
      "|  Stevens|             Rice|   WA| CHEVROLET|      BOLT EUV|      99167|      2023| Battery Electric ...|        0|     220635467|      53065950102|                             Eligibility unkno...|                   7|POINT (-118.16165...|         AVISTA CORP|   -4| 0.7952274729847915|     0|\n",
      "| Thurston|             Yelm|   WA|       KIA|          NIRO|      98597|      2022| Battery Electric ...|        0|     176100060|      53067012532|                             Eligibility unkno...|                   2|POINT (-122.60735...|PUGET SOUND ENERG...|   -7| -6.963428805168384|     0|\n",
      "|   Yakima|           Yakima|   WA|     TESLA|       MODEL 3|      98908|      2022| Battery Electric ...|        0|     186968806|      53077000904|                             Eligibility unkno...|                  14|POINT (-120.56916...|          PACIFICORP|   -1|-0.3350140456260746|     0|\n",
      "|   Island|        Greenbank|   WA|    NISSAN|          LEAF|      98253|      2022| Battery Electric ...|        0|     193533168|      53029971301|                             Eligibility unkno...|                  10|POINT (-122.56821...|PUGET SOUND ENERG...|  -12|-10.655707338906126|     0|\n",
      "|    Clark|        Vancouver|   WA|     TESLA|       MODEL 3|      98683|      2023| Battery Electric ...|        0|     228419068|      53011041310|                             Eligibility unkno...|                  17|POINT (-122.49212...|BONNEVILLE POWER ...|   -1|-0.3350140456260746|     0|\n",
      "|     King|          Bothell|   WA|     TESLA|       MODEL 3|      98072|      2021| Battery Electric ...|        0|     141973835|      53033021802|                             Eligibility unkno...|                   1|POINT (-122.15545...|PUGET SOUND ENERG...|   -1|-0.3350140456260746|     0|\n",
      "|     King|           Medina|   WA|     VOLVO|          XC40|      98039|      2021| Battery Electric ...|        0|     177620698|      53033024200|                             Eligibility unkno...|                  48|POINT (-122.23892...|PUGET SOUND ENERG...|   -2| -6.778219885458924|     0|\n",
      "|   Kitsap|Bainbridge Island|   WA|      FORD|MUSTANG MACH-E|      98110|      2022| Battery Electric ...|        0|     207556289|      53035091002|                             Eligibility unkno...|                  23|POINT (-122.521 4...|PUGET SOUND ENERG...|    0|-0.8472561371412439|     0|\n",
      "|     King|        Fall City|   WA|  POLESTAR|           PS2|      98024|      2022| Battery Electric ...|        0|     195084998|      53033032221|                             Eligibility unkno...|                   5|POINT (-121.89086...|PUGET SOUND ENERG...|    0|  4.543450827916274|     0|\n",
      "|Snohomish|     Lake Stevens|   WA|   HYUNDAI|       IONIQ 5|      98258|      2022| Battery Electric ...|        0|     199546287|      53061052505|                             Eligibility unkno...|                  44|POINT (-122.06402...|PUGET SOUND ENERG...|   -2| 1.6095218907274926|     0|\n",
      "|   Chelan|      Leavenworth|   WA|    RIVIAN|           R1T|      98826|      2022| Battery Electric ...|        0|     221327172|      53007960201|                             Eligibility unkno...|                  12|POINT (-120.65754...|PUD NO 1 OF CHELA...|   -1|-3.7629582716423897|     0|\n",
      "|     King|      Woodinville|   WA|     TESLA|       MODEL 3|      98072|      2021| Battery Electric ...|        0|     179373211|      53033032320|                             Eligibility unkno...|                  45|POINT (-122.15545...|PUGET SOUND ENERG...|   -1|-0.3350140456260746|     0|\n",
      "| San Juan|         Orcas Is|   WA|    RIVIAN|           R1T|      98243|      2022| Battery Electric ...|        0|     211138574|      53055960103|                             Eligibility unkno...|                  40|POINT (-123.00026...|BONNEVILLE POWER ...|   -1|-3.7629582716423897|     0|\n",
      "|Snohomish|         Lynnwood|   WA|     TESLA|       MODEL 3|      98087|      2021| Battery Electric ...|        0|     180525530|      53061042004|                             Eligibility unkno...|                  21|POINT (-122.27981...|PUGET SOUND ENERG...|   -1|-0.3350140456260746|     0|\n",
      "|     King|           Auburn|   WA|VOLKSWAGEN|          ID.4|      98092|      2021| Battery Electric ...|        0|     161784724|      53033031204|                             Eligibility unkno...|                  31|POINT (-122.17663...|PUGET SOUND ENERG...|   -2| 1.8764354066317992|     0|\n",
      "|   Pierce|      Bonney Lake|   WA|       KIA|           EV6|      98391|      2022| Battery Electric ...|        0|     204694549|      53053070308|                             Eligibility unkno...|                  31|POINT (-122.17144...|PUGET SOUND ENERG...|   -1| -2.942639723158159|     0|\n",
      "|Snohomish|          Everett|   WA| CHEVROLET|      BOLT EUV|      98208|      2023| Battery Electric ...|        0|     220205282|      53061041606|                             Eligibility unkno...|                  44|POINT (-122.18637...|PUGET SOUND ENERG...|   -4| 0.7952274729847915|     0|\n",
      "|     King|          Tukwila|   WA|    RIVIAN|           EDV|      98168|      2022| Battery Electric ...|        0|     223960040|      53033026400|                             Eligibility unkno...|                  11|POINT (-122.3317 ...|CITY OF SEATTLE -...|   -4|-1.7858335564837233|     0|\n",
      "|     King|        Shoreline|   WA|    NISSAN|          LEAF|      98133|      2021| Battery Electric ...|        0|     152032268|      53033020700|                             Eligibility unkno...|                  32|POINT (-122.3503 ...|CITY OF SEATTLE -...|  -12|-10.655707338906126|     0|\n",
      "|   Kitsap|Bainbridge Island|   WA|     VOLVO|          XC40|      98110|      2021| Battery Electric ...|        0|     154992512|      53035090800|                             Eligibility unkno...|                  23|POINT (-122.521 4...|PUGET SOUND ENERG...|   -2| -6.778219885458924|     0|\n",
      "+---------+-----------------+-----+----------+--------------+-----------+----------+---------------------+---------+--------------+-----------------+-------------------------------------------------+--------------------+--------------------+--------------------+-----+-------------------+------+\n",
      "only showing top 20 rows\n",
      "\n"
     ]
    }
   ],
   "source": [
    "df_final1.filter(col('Range2')==0).show()"
   ]
  }
 ],
 "metadata": {
  "colab": {
   "include_colab_link": true,
   "provenance": []
  },
  "kernelspec": {
   "display_name": "Python 3 (ipykernel)",
   "language": "python",
   "name": "python3"
  },
  "language_info": {
   "codemirror_mode": {
    "name": "ipython",
    "version": 3
   },
   "file_extension": ".py",
   "mimetype": "text/x-python",
   "name": "python",
   "nbconvert_exporter": "python",
   "pygments_lexer": "ipython3",
   "version": "3.9.13"
  },
  "vscode": {
   "interpreter": {
    "hash": "25876271bee417cea62ac4a874d4e4ae52fe419c2f0f6d8a5704a6b7fa872526"
   }
  }
 },
 "nbformat": 4,
 "nbformat_minor": 5
}
