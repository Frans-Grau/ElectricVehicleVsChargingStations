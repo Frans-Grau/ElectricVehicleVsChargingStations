{
  "cells": [
    {
      "cell_type": "markdown",
      "metadata": {
        "id": "view-in-github",
        "colab_type": "text"
      },
      "source": [
        "<a href=\"https://colab.research.google.com/github/Frans-Grau/ElectricVehicleVsChargingStations/blob/main/Time-Experiments/PySpark-EVPop.ipynb\" target=\"_parent\"><img src=\"https://colab.research.google.com/assets/colab-badge.svg\" alt=\"Open In Colab\"/></a>"
      ]
    },
    {
      "cell_type": "code",
      "execution_count": 1,
      "id": "zQbX9usmHNd_",
      "metadata": {
        "colab": {
          "base_uri": "https://localhost:8080/"
        },
        "id": "zQbX9usmHNd_",
        "outputId": "6c5bd194-3b53-47d7-8791-02335fa90d94"
      },
      "outputs": [
        {
          "output_type": "stream",
          "name": "stdout",
          "text": [
            "Looking in indexes: https://pypi.org/simple, https://us-python.pkg.dev/colab-wheels/public/simple/\n",
            "Collecting pyspark\n",
            "  Downloading pyspark-3.3.1.tar.gz (281.4 MB)\n",
            "\u001b[2K     \u001b[90m━━━━━━━━━━━━━━━━━━━━━━━━━━━━━━━━━━━━━━━\u001b[0m \u001b[32m281.4/281.4 MB\u001b[0m \u001b[31m4.8 MB/s\u001b[0m eta \u001b[36m0:00:00\u001b[0m\n",
            "\u001b[?25h  Preparing metadata (setup.py) ... \u001b[?25l\u001b[?25hdone\n",
            "Collecting py4j==0.10.9.5\n",
            "  Downloading py4j-0.10.9.5-py2.py3-none-any.whl (199 kB)\n",
            "\u001b[2K     \u001b[90m━━━━━━━━━━━━━━━━━━━━━━━━━━━━━━━━━━━━━━\u001b[0m \u001b[32m199.7/199.7 KB\u001b[0m \u001b[31m20.1 MB/s\u001b[0m eta \u001b[36m0:00:00\u001b[0m\n",
            "\u001b[?25hBuilding wheels for collected packages: pyspark\n",
            "  Building wheel for pyspark (setup.py) ... \u001b[?25l\u001b[?25hdone\n",
            "  Created wheel for pyspark: filename=pyspark-3.3.1-py2.py3-none-any.whl size=281845512 sha256=0ad7673309d4509ba699166a16c80ce0411ed47fc281c3898109c82fb8268dae\n",
            "  Stored in directory: /root/.cache/pip/wheels/43/dc/11/ec201cd671da62fa9c5cc77078235e40722170ceba231d7598\n",
            "Successfully built pyspark\n",
            "Installing collected packages: py4j, pyspark\n",
            "Successfully installed py4j-0.10.9.5 pyspark-3.3.1\n",
            "CPU times: user 423 ms, sys: 76.9 ms, total: 500 ms\n",
            "Wall time: 40.8 s\n"
          ]
        }
      ],
      "source": [
        "%%time\n",
        "!pip install pyspark"
      ]
    },
    {
      "cell_type": "code",
      "execution_count": 2,
      "id": "2345c28b-b817-4c5b-9ad3-0abaca0d246b",
      "metadata": {
        "id": "2345c28b-b817-4c5b-9ad3-0abaca0d246b",
        "outputId": "1b526091-2b49-4f00-96f9-b628fea06f19",
        "colab": {
          "base_uri": "https://localhost:8080/"
        }
      },
      "outputs": [
        {
          "output_type": "stream",
          "name": "stdout",
          "text": [
            "CPU times: user 44.7 ms, sys: 5.8 ms, total: 50.5 ms\n",
            "Wall time: 54.9 ms\n"
          ]
        }
      ],
      "source": [
        "%%time\n",
        "import pyspark\n",
        "from pyspark import SparkConf, SparkContext\n",
        "from pyspark.sql import SparkSession\n",
        "from pyspark import SparkFiles"
      ]
    },
    {
      "cell_type": "code",
      "execution_count": 3,
      "id": "17jLvOiVHJr3",
      "metadata": {
        "id": "17jLvOiVHJr3",
        "outputId": "db888555-83df-44ca-89ea-309f323c6745",
        "colab": {
          "base_uri": "https://localhost:8080/"
        }
      },
      "outputs": [
        {
          "output_type": "stream",
          "name": "stdout",
          "text": [
            "CPU times: user 184 ms, sys: 35.1 ms, total: 220 ms\n",
            "Wall time: 23.9 s\n"
          ]
        }
      ],
      "source": [
        "%%time\n",
        "spark = SparkSession.builder.appName(\"EVPop\").getOrCreate()\n",
        "url = \"https://raw.githubusercontent.com/Frans-Grau/ElectricVehicleVsChargingStations/main/Datasets/EVPopulation.csv\"\n",
        "spark.sparkContext.addFile(url)\n",
        "\n",
        "dfEV = spark.read.csv(\"file://\"+SparkFiles.get(\"EVPopulation.csv\"), header=True, inferSchema= True)"
      ]
    },
    {
      "cell_type": "code",
      "execution_count": 4,
      "id": "h3nqibEvHwDL",
      "metadata": {
        "colab": {
          "base_uri": "https://localhost:8080/"
        },
        "id": "h3nqibEvHwDL",
        "outputId": "bf512533-44b2-4d81-9aed-80a2b72bd6e3"
      },
      "outputs": [
        {
          "output_type": "stream",
          "name": "stdout",
          "text": [
            "+----------+-----------+--------------+-----+-----------+----------+-------------+---------+---------------------+-------------------------------------------------+--------------+---------+--------------------+--------------+--------------------+--------------------+-----------------+\n",
            "|VIN (1-10)|     County|          City|State|Postal Code|Model Year|         Make|    Model|Electric Vehicle Type|Clean Alternative Fuel Vehicle (CAFV) Eligibility|Electric Range|Base MSRP|Legislative District|DOL Vehicle ID|    Vehicle Location|    Electric Utility|2020 Census Tract|\n",
            "+----------+-----------+--------------+-----+-----------+----------+-------------+---------+---------------------+-------------------------------------------------+--------------+---------+--------------------+--------------+--------------------+--------------------+-----------------+\n",
            "|WDC0G5EB7K|     Louisa|       Bumpass|   VA|      23024|      2019|MERCEDES-BENZ|GLC-CLASS| Plug-in Hybrid El...|                             Not eligible due ...|            10|        0|                null|     153874850|POINT (-77.73727 ...|                null|      51109950101|\n",
            "|5YJYGDEE8L|   Kittitas|      Cle Elum|   WA|      98922|      2020|        TESLA|  MODEL Y| Battery Electric ...|                             Clean Alternative...|           291|        0|                  13|     109455524|POINT (-120.93943...|PUGET SOUND ENERG...|      53037975104|\n",
            "|5YJ3E1EBXL|     Chelan|        Chelan|   WA|      98816|      2020|        TESLA|  MODEL 3| Battery Electric ...|                             Clean Alternative...|           322|        0|                  12|     124022020|POINT (-120.01454...|PUD NO 1 OF CHELA...|      53007960302|\n",
            "|5YJ3E1EA5J|  Snohomish|     Snohomish|   WA|      98290|      2018|        TESLA|  MODEL 3| Battery Electric ...|                             Clean Alternative...|           215|        0|                  39|     235141224|POINT (-122.09305...|PUGET SOUND ENERG...|      53061052105|\n",
            "|1FADP5CU1E|   Thurston|      Tumwater|   WA|      98512|      2014|         FORD|    C-MAX| Plug-in Hybrid El...|                             Not eligible due ...|            19|        0|                  22|     141584306|POINT (-122.92057...|PUGET SOUND ENERG...|      53067010920|\n",
            "|3FA6P0PU0D|     Kitsap|      Kingston|   WA|      98346|      2013|         FORD|   FUSION| Plug-in Hybrid El...|                             Not eligible due ...|            19|        0|                  23|     244714032|POINT (-122.49771...|PUGET SOUND ENERG...|      53035090102|\n",
            "|1N4AZ1CP6J|       King|       Seattle|   WA|      98115|      2018|       NISSAN|     LEAF| Battery Electric ...|                             Clean Alternative...|           151|        0|                  46|     111913735|POINT (-122.31765...|CITY OF SEATTLE -...|      53033002100|\n",
            "|WA1VAAGE8K|     Skagit|  Mount Vernon|   WA|      98273|      2019|         AUDI|   E-TRON| Battery Electric ...|                             Clean Alternative...|           204|        0|                  40|     477309276|POINT (-122.33891...|PUGET SOUND ENERG...|      53057952304|\n",
            "|1N4AZ1CP4K|     Kitsap|  Port Orchard|   WA|      98366|      2019|       NISSAN|     LEAF| Battery Electric ...|                             Clean Alternative...|           150|        0|                  26|       1880896|POINT (-122.63847...|PUGET SOUND ENERG...|      53035092500|\n",
            "|5YJ3E1EB1L|  Snohomish|       Bothell|   WA|      98012|      2020|        TESLA|  MODEL 3| Battery Electric ...|                             Clean Alternative...|           322|        0|                   1|       8038117|POINT (-122.21061...|PUGET SOUND ENERG...|      53061051936|\n",
            "|1N4BZ1CP7K|     Yakima|        Tieton|   WA|      98947|      2019|       NISSAN|     LEAF| Battery Electric ...|                             Clean Alternative...|           150|        0|                  14|       8518268|POINT (-120.75541...|          PACIFICORP|      53077002900|\n",
            "|5YJ3E1EB2J|  Snohomish|       Edmonds|   WA|      98026|      2018|        TESLA|  MODEL 3| Battery Electric ...|                             Clean Alternative...|           215|        0|                  21|     227624197|POINT (-122.31768...|PUGET SOUND ENERG...|      53061050200|\n",
            "|KNDCC3LD7J|Walla Walla|   Walla Walla|   WA|      99362|      2018|          KIA|     NIRO| Plug-in Hybrid El...|                             Not eligible due ...|            26|        0|                  16|     336032735|POINT (-118.34261...|          PACIFICORP|      53071920902|\n",
            "|1N4AZ1CP5J|     Kitsap|  Port Orchard|   WA|      98367|      2018|       NISSAN|     LEAF| Battery Electric ...|                             Clean Alternative...|           151|        0|                  26|     477961746|POINT (-122.65745...|PUGET SOUND ENERG...|      53035092101|\n",
            "|1N4AZ1CP0J|     Kitsap|  Port Orchard|   WA|      98367|      2018|       NISSAN|     LEAF| Battery Electric ...|                             Clean Alternative...|           151|        0|                  26|     292189299|POINT (-122.65745...|PUGET SOUND ENERG...|      53035092704|\n",
            "|JN1AZ0CP5C|Walla Walla|   Walla Walla|   WA|      99362|      2012|       NISSAN|     LEAF| Battery Electric ...|                             Clean Alternative...|            73|        0|                  16|     193763377|POINT (-118.34261...|          PACIFICORP|      53071920702|\n",
            "|1N4AZ0CP7F|       King|        Vashon|   WA|      98070|      2015|       NISSAN|     LEAF| Battery Electric ...|                             Clean Alternative...|            84|        0|                  34|     107310661|POINT (-122.4573 ...|PUGET SOUND ENERG...|      53033027701|\n",
            "|5YJ3E1EBXK|        Lee|Smiths Station|   AL|      36877|      2019|        TESLA|  MODEL 3| Battery Electric ...|                             Clean Alternative...|           220|        0|                null|     225833863|POINT (-85.08963 ...|                null|       1081041901|\n",
            "|5YJ3E1EB7K|  Snohomish|       Edmonds|   WA|      98026|      2019|        TESLA|  MODEL 3| Battery Electric ...|                             Clean Alternative...|           220|        0|                  21|     277369837|POINT (-122.31768...|PUGET SOUND ENERG...|      53061050200|\n",
            "|1G1FZ6S09P|    Stevens|          Rice|   WA|      99167|      2023|    CHEVROLET| BOLT EUV| Battery Electric ...|                             Eligibility unkno...|             0|        0|                   7|     220635467|POINT (-118.16165...|         AVISTA CORP|      53065950102|\n",
            "+----------+-----------+--------------+-----+-----------+----------+-------------+---------+---------------------+-------------------------------------------------+--------------+---------+--------------------+--------------+--------------------+--------------------+-----------------+\n",
            "only showing top 20 rows\n",
            "\n",
            "CPU times: user 9.58 ms, sys: 73 µs, total: 9.66 ms\n",
            "Wall time: 779 ms\n"
          ]
        }
      ],
      "source": [
        "%%time\n",
        "dfEV.show()"
      ]
    },
    {
      "cell_type": "code",
      "execution_count": 5,
      "id": "25ae599a-55e6-4a2d-bb15-43d2d296c9dd",
      "metadata": {
        "colab": {
          "base_uri": "https://localhost:8080/"
        },
        "id": "25ae599a-55e6-4a2d-bb15-43d2d296c9dd",
        "outputId": "f38e9a22-216a-48f0-af5f-8d3be08e6bce"
      },
      "outputs": [
        {
          "output_type": "stream",
          "name": "stdout",
          "text": [
            "root\n",
            " |-- VIN (1-10): string (nullable = true)\n",
            " |-- County: string (nullable = true)\n",
            " |-- City: string (nullable = true)\n",
            " |-- State: string (nullable = true)\n",
            " |-- Postal Code: integer (nullable = true)\n",
            " |-- Model Year: integer (nullable = true)\n",
            " |-- Make: string (nullable = true)\n",
            " |-- Model: string (nullable = true)\n",
            " |-- Electric Vehicle Type: string (nullable = true)\n",
            " |-- Clean Alternative Fuel Vehicle (CAFV) Eligibility: string (nullable = true)\n",
            " |-- Electric Range: integer (nullable = true)\n",
            " |-- Base MSRP: integer (nullable = true)\n",
            " |-- Legislative District: integer (nullable = true)\n",
            " |-- DOL Vehicle ID: integer (nullable = true)\n",
            " |-- Vehicle Location: string (nullable = true)\n",
            " |-- Electric Utility: string (nullable = true)\n",
            " |-- 2020 Census Tract: long (nullable = true)\n",
            "\n",
            "CPU times: user 2.13 ms, sys: 905 µs, total: 3.04 ms\n",
            "Wall time: 12.9 ms\n"
          ]
        }
      ],
      "source": [
        "%%time\n",
        "dfEV.printSchema()"
      ]
    },
    {
      "cell_type": "markdown",
      "id": "11446956-823f-4d97-842b-25641b82096e",
      "metadata": {
        "id": "11446956-823f-4d97-842b-25641b82096e"
      },
      "source": [
        "## EDA on the filtered DF -> State = Washington"
      ]
    },
    {
      "cell_type": "code",
      "execution_count": 6,
      "id": "25d61c31-229a-4050-938e-a3de94aa182d",
      "metadata": {
        "id": "25d61c31-229a-4050-938e-a3de94aa182d",
        "outputId": "a5951817-450e-45bc-c3ef-889de5163d3f",
        "colab": {
          "base_uri": "https://localhost:8080/"
        }
      },
      "outputs": [
        {
          "output_type": "stream",
          "name": "stdout",
          "text": [
            "CPU times: user 2.22 ms, sys: 0 ns, total: 2.22 ms\n",
            "Wall time: 19.7 ms\n"
          ]
        }
      ],
      "source": [
        "%%time\n",
        "### Filter dfEV to just values in WA and save into a new dataframe\n",
        "df1 = dfEV.filter(dfEV.State == 'WA')"
      ]
    },
    {
      "cell_type": "code",
      "execution_count": 7,
      "id": "JjAq0Oc9LpwF",
      "metadata": {
        "colab": {
          "base_uri": "https://localhost:8080/"
        },
        "id": "JjAq0Oc9LpwF",
        "outputId": "4b895e91-a270-4285-b8b0-e0a7ec3524b7"
      },
      "outputs": [
        {
          "output_type": "stream",
          "name": "stdout",
          "text": [
            "+----------+------+----+-----+-----------+----------+----+-----+---------------------+-------------------------------------------------+--------------+---------+--------------------+--------------+----------------+----------------+-----------------+\n",
            "|VIN (1-10)|County|City|State|Postal Code|Model Year|Make|Model|Electric Vehicle Type|Clean Alternative Fuel Vehicle (CAFV) Eligibility|Electric Range|Base MSRP|Legislative District|DOL Vehicle ID|Vehicle Location|Electric Utility|2020 Census Tract|\n",
            "+----------+------+----+-----+-----------+----------+----+-----+---------------------+-------------------------------------------------+--------------+---------+--------------------+--------------+----------------+----------------+-----------------+\n",
            "|         0|     0|   0|    0|          0|         0|   0|   84|                    0|                                                0|             0|        0|                   0|             0|              27|             159|                0|\n",
            "+----------+------+----+-----+-----------+----------+----+-----+---------------------+-------------------------------------------------+--------------+---------+--------------------+--------------+----------------+----------------+-----------------+\n",
            "\n",
            "CPU times: user 95.9 ms, sys: 12.9 ms, total: 109 ms\n",
            "Wall time: 7.87 s\n"
          ]
        }
      ],
      "source": [
        "%%time\n",
        "### Check for Null values -> the whole df\n",
        "from pyspark.sql.functions import isnan, when, count, col, isnull\n",
        "df1.select([count(when(isnan(c) | col(c).isNull(), c)).alias(c) for c in df1.columns]).show()"
      ]
    },
    {
      "cell_type": "code",
      "execution_count": 8,
      "id": "34823132-dc2c-49c6-86c7-1ae46035384d",
      "metadata": {
        "colab": {
          "base_uri": "https://localhost:8080/"
        },
        "id": "34823132-dc2c-49c6-86c7-1ae46035384d",
        "outputId": "e2d38724-f815-496f-fd95-29d52ce81bbb"
      },
      "outputs": [
        {
          "output_type": "stream",
          "name": "stdout",
          "text": [
            "+------------+-----+\n",
            "|      County|count|\n",
            "+------------+-----+\n",
            "|        King|60059|\n",
            "|   Snohomish|12720|\n",
            "|      Pierce| 8684|\n",
            "|       Clark| 6834|\n",
            "|    Thurston| 4207|\n",
            "|      Kitsap| 3902|\n",
            "|     Whatcom| 2873|\n",
            "|     Spokane| 2835|\n",
            "|      Benton| 1394|\n",
            "|      Island| 1307|\n",
            "|      Skagit| 1269|\n",
            "|     Clallam|  741|\n",
            "|    San Juan|  729|\n",
            "|   Jefferson|  701|\n",
            "|      Chelan|  654|\n",
            "|      Yakima|  633|\n",
            "|     Cowlitz|  576|\n",
            "|       Mason|  555|\n",
            "|       Lewis|  437|\n",
            "|Grays Harbor|  398|\n",
            "+------------+-----+\n",
            "only showing top 20 rows\n",
            "\n",
            "CPU times: user 24.6 ms, sys: 1.18 ms, total: 25.8 ms\n",
            "Wall time: 2.59 s\n"
          ]
        }
      ],
      "source": [
        "%%time\n",
        "### Value_counts\n",
        "dfEV.groupBy('County').count().orderBy('count', ascending=False).show()"
      ]
    },
    {
      "cell_type": "code",
      "execution_count": 11,
      "id": "Bct449wjYKqZ",
      "metadata": {
        "colab": {
          "base_uri": "https://localhost:8080/",
          "height": 317
        },
        "id": "Bct449wjYKqZ",
        "outputId": "5fa2ccca-597a-4c05-ebe1-61815141656a"
      },
      "outputs": [
        {
          "output_type": "stream",
          "name": "stdout",
          "text": [
            "CPU times: user 69 ms, sys: 4.73 ms, total: 73.7 ms\n",
            "Wall time: 1.22 s\n"
          ]
        },
        {
          "output_type": "execute_result",
          "data": {
            "text/plain": [
              "<matplotlib.axes._subplots.AxesSubplot at 0x7f4a68ee65b0>"
            ]
          },
          "metadata": {},
          "execution_count": 11
        },
        {
          "output_type": "display_data",
          "data": {
            "text/plain": [
              "<Figure size 432x288 with 1 Axes>"
            ],
            "image/png": "[encoded data removed]"
          },
          "metadata": {
            "needs_background": "light"
          }
        }
      ],
      "source": [
        "%%time\n",
        "### CAR MODELS: Value Counts and use paadas to plot\n",
        "import pandas as pd\n",
        "models = df1.groupBy('Model').count().orderBy('count', ascending=False)\n",
        "p_models = models.toPandas()\n",
        "p_models.set_index('Model', inplace=True)\n",
        "p_models[:10].plot(kind='barh')"
      ]
    }
  ],
  "metadata": {
    "colab": {
      "provenance": [],
      "include_colab_link": true
    },
    "kernelspec": {
      "display_name": "Python 3 (ipykernel)",
      "language": "python",
      "name": "python3"
    },
    "language_info": {
      "codemirror_mode": {
        "name": "ipython",
        "version": 3
      },
      "file_extension": ".py",
      "mimetype": "text/x-python",
      "name": "python",
      "nbconvert_exporter": "python",
      "pygments_lexer": "ipython3",
      "version": "3.9.13"
    },
    "vscode": {
      "interpreter": {
        "hash": "25876271bee417cea62ac4a874d4e4ae52fe419c2f0f6d8a5704a6b7fa872526"
      }
    }
  },
  "nbformat": 4,
  "nbformat_minor": 5
}