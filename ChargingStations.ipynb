{
  "cells": [
    {
      "cell_type": "markdown",
      "metadata": {
        "id": "view-in-github",
        "colab_type": "text"
      },
      "source": [
        "<a href=\"https://colab.research.google.com/github/Frans-Grau/ElectricVehicleVsChargingStations/blob/main/ChargingStations.ipynb\" target=\"_parent\"><img src=\"https://colab.research.google.com/assets/colab-badge.svg\" alt=\"Open In Colab\"/></a>"
      ]
    },
    {
      "cell_type": "code",
      "source": [
        "# !pip install pyspark"
      ],
      "metadata": {
        "id": "OjRDzoz4E-0k"
      },
      "execution_count": null,
      "outputs": []
    },
    {
      "cell_type": "code",
      "execution_count": 1,
      "metadata": {
        "id": "9yZHVzM3EbM6"
      },
      "outputs": [],
      "source": [
        "import pyspark\n",
        "from pyspark import SparkConf, SparkContext\n",
        "from pyspark.sql import SparkSession"
      ]
    },
    {
      "cell_type": "code",
      "source": [
        "spark = SparkSession.builder.appName(\"Charger\").getOrCreate()\n",
        "url = \"https://raw.githubusercontent.com/Frans-Grau/ElectricVehicleVsChargingStations/main/Datasets/Cstations2.csv\"\n",
        "from pyspark import SparkFiles\n",
        "spark.sparkContext.addFile(url)\n",
        "\n",
        "dfCS = spark.read.csv(\"file://\"+SparkFiles.get(\"Cstations2.csv\"), header=True, inferSchema= True)"
      ],
      "metadata": {
        "id": "cZmOwmsvE9mP"
      },
      "execution_count": 2,
      "outputs": []
    },
    {
      "cell_type": "code",
      "source": [
        "dfCS.show(1)"
      ],
      "metadata": {
        "colab": {
          "base_uri": "https://localhost:8080/"
        },
        "id": "TyUSa5idFno4",
        "outputId": "d34f3d7e-254a-453f-f9ce-a6b3938ff17f"
      },
      "execution_count": 3,
      "outputs": [
        {
          "output_type": "stream",
          "name": "stdout",
          "text": [
            "+--------------+--------------------+----------------+-----------------------+----------+-----+-----+-----+-------------+-----------+-------------+-----------------------+----------------+--------------+---------+-----------------+------+------------------+------------------+----------------+-------------+----------+--------------+--------------+---------+----------+-------------------+---+-------------------+---------------+-----------------+-------------------+-------------------+--------------------+----------------+-----------+----------------+------------------+-------+--------------------------------+-------------------------+------------------+--------------------------------+------------------+-----------+------------------+-------------------+------------------+-----------------+----------------------------+------------------------------+--------------------+----------------------------+------------------------+----------+-------------------+----------------+------------------+------------------+------------------+-------+-----------------+-----------------+---------------------------+-----------------+\n",
            "|Fuel Type Code|        Station Name|  Street Address|Intersection Directions|      City|State|  ZIP|Plus4|Station Phone|Status Code|Expected Date|Groups With Access Code|Access Days Time|Cards Accepted|BD Blends|NG Fill Type Code|NG PSI|EV Level1 EVSE Num|EV Level2 EVSE Num|EV DC Fast Count|EV Other Info|EV Network|EV Network Web|Geocode Status| Latitude| Longitude|Date Last Confirmed| ID|         Updated At|Owner Type Code|Federal Agency ID|Federal Agency Name|          Open Date|Hydrogen Status Link|NG Vehicle Class|LPG Primary|E85 Blender Pump|EV Connector Types|Country|Intersection Directions (French)|Access Days Time (French)|BD Blends (French)|Groups With Access Code (French)|Hydrogen Is Retail|Access Code|Access Detail Code|Federal Agency Code|     Facility Type|CNG Dispenser Num|CNG On-Site Renewable Source|CNG Total Compression Capacity|CNG Storage Capacity|LNG On-Site Renewable Source|E85 Other Ethanol Blends|EV Pricing|EV Pricing (French)|LPG Nozzle Types|Hydrogen Pressures|Hydrogen Standards|CNG Fill Type Code|CNG PSI|CNG Vehicle Class|LNG Vehicle Class|EV On-Site Renewable Source|Restricted Access|\n",
            "+--------------+--------------------+----------------+-----------------------+----------+-----+-----+-----+-------------+-----------+-------------+-----------------------+----------------+--------------+---------+-----------------+------+------------------+------------------+----------------+-------------+----------+--------------+--------------+---------+----------+-------------------+---+-------------------+---------------+-----------------+-------------------+-------------------+--------------------+----------------+-----------+----------------+------------------+-------+--------------------------------+-------------------------+------------------+--------------------------------+------------------+-----------+------------------+-------------------+------------------+-----------------+----------------------------+------------------------------+--------------------+----------------------------+------------------------+----------+-------------------+----------------+------------------+------------------+------------------+-------+-----------------+-----------------+---------------------------+-----------------+\n",
            "|           CNG|Spire - Montgomer...|2951 Chestnut St|                   null|Montgomery|   AL|36107| null|         null|          E|         null|                Private|            null|          null|     null|                B|  3600|              null|              null|            null|         null|      null|          null|         200-9|32.367916|-86.267021|         2020-11-09| 17|2021-07-29 15:08:10|              T|             null|               null|2010-12-01 00:00:00|                null|              MD|       null|            null|              null|     US|                            null|                     null|              null|                           Privé|              null|    private|              null|               null|STANDALONE_STATION|             null|                        null|                          null|                null|                        null|                    null|      null|               null|            null|              null|              null|                 B|   3600|               MD|             null|                       null|             null|\n",
            "+--------------+--------------------+----------------+-----------------------+----------+-----+-----+-----+-------------+-----------+-------------+-----------------------+----------------+--------------+---------+-----------------+------+------------------+------------------+----------------+-------------+----------+--------------+--------------+---------+----------+-------------------+---+-------------------+---------------+-----------------+-------------------+-------------------+--------------------+----------------+-----------+----------------+------------------+-------+--------------------------------+-------------------------+------------------+--------------------------------+------------------+-----------+------------------+-------------------+------------------+-----------------+----------------------------+------------------------------+--------------------+----------------------------+------------------------+----------+-------------------+----------------+------------------+------------------+------------------+-------+-----------------+-----------------+---------------------------+-----------------+\n",
            "only showing top 1 row\n",
            "\n"
          ]
        }
      ]
    },
    {
      "cell_type": "code",
      "source": [
        "dfCS.printSchema()"
      ],
      "metadata": {
        "id": "kxbughlME8zc",
        "outputId": "d15d4ff8-62b3-4313-85ad-d5f97391c760",
        "colab": {
          "base_uri": "https://localhost:8080/"
        }
      },
      "execution_count": 12,
      "outputs": [
        {
          "output_type": "stream",
          "name": "stdout",
          "text": [
            "root\n",
            " |-- Fuel Type Code: string (nullable = true)\n",
            " |-- Station Name: string (nullable = true)\n",
            " |-- Street Address: string (nullable = true)\n",
            " |-- Intersection Directions: string (nullable = true)\n",
            " |-- City: string (nullable = true)\n",
            " |-- State: string (nullable = true)\n",
            " |-- ZIP: string (nullable = true)\n",
            " |-- Plus4: string (nullable = true)\n",
            " |-- Station Phone: string (nullable = true)\n",
            " |-- Status Code: string (nullable = true)\n",
            " |-- Expected Date: string (nullable = true)\n",
            " |-- Groups With Access Code: string (nullable = true)\n",
            " |-- Access Days Time: string (nullable = true)\n",
            " |-- Cards Accepted: string (nullable = true)\n",
            " |-- BD Blends: string (nullable = true)\n",
            " |-- NG Fill Type Code: string (nullable = true)\n",
            " |-- NG PSI: string (nullable = true)\n",
            " |-- EV Level1 EVSE Num: integer (nullable = true)\n",
            " |-- EV Level2 EVSE Num: string (nullable = true)\n",
            " |-- EV DC Fast Count: string (nullable = true)\n",
            " |-- EV Other Info: string (nullable = true)\n",
            " |-- EV Network: string (nullable = true)\n",
            " |-- EV Network Web: string (nullable = true)\n",
            " |-- Geocode Status: string (nullable = true)\n",
            " |-- Latitude: string (nullable = true)\n",
            " |-- Longitude: string (nullable = true)\n",
            " |-- Date Last Confirmed: string (nullable = true)\n",
            " |-- ID: string (nullable = true)\n",
            " |-- Updated At: timestamp (nullable = true)\n",
            " |-- Owner Type Code: string (nullable = true)\n",
            " |-- Federal Agency ID: string (nullable = true)\n",
            " |-- Federal Agency Name: string (nullable = true)\n",
            " |-- Open Date: timestamp (nullable = true)\n",
            " |-- Hydrogen Status Link: string (nullable = true)\n",
            " |-- NG Vehicle Class: string (nullable = true)\n",
            " |-- LPG Primary: string (nullable = true)\n",
            " |-- E85 Blender Pump: string (nullable = true)\n",
            " |-- EV Connector Types: string (nullable = true)\n",
            " |-- Country: string (nullable = true)\n",
            " |-- Intersection Directions (French): string (nullable = true)\n",
            " |-- Access Days Time (French): string (nullable = true)\n",
            " |-- BD Blends (French): string (nullable = true)\n",
            " |-- Groups With Access Code (French): string (nullable = true)\n",
            " |-- Hydrogen Is Retail: string (nullable = true)\n",
            " |-- Access Code: string (nullable = true)\n",
            " |-- Access Detail Code: string (nullable = true)\n",
            " |-- Federal Agency Code: string (nullable = true)\n",
            " |-- Facility Type: string (nullable = true)\n",
            " |-- CNG Dispenser Num: string (nullable = true)\n",
            " |-- CNG On-Site Renewable Source: string (nullable = true)\n",
            " |-- CNG Total Compression Capacity: integer (nullable = true)\n",
            " |-- CNG Storage Capacity: string (nullable = true)\n",
            " |-- LNG On-Site Renewable Source: string (nullable = true)\n",
            " |-- E85 Other Ethanol Blends: string (nullable = true)\n",
            " |-- EV Pricing: string (nullable = true)\n",
            " |-- EV Pricing (French): string (nullable = true)\n",
            " |-- LPG Nozzle Types: string (nullable = true)\n",
            " |-- Hydrogen Pressures: string (nullable = true)\n",
            " |-- Hydrogen Standards: string (nullable = true)\n",
            " |-- CNG Fill Type Code: string (nullable = true)\n",
            " |-- CNG PSI: string (nullable = true)\n",
            " |-- CNG Vehicle Class: string (nullable = true)\n",
            " |-- LNG Vehicle Class: string (nullable = true)\n",
            " |-- EV On-Site Renewable Source: string (nullable = true)\n",
            " |-- Restricted Access: string (nullable = true)\n",
            "\n"
          ]
        }
      ]
    },
    {
      "cell_type": "code",
      "source": [
        "dfCS.groupBy('State').count().orderBy('count', ascending=False).show(50)"
      ],
      "metadata": {
        "id": "waR9_G09DoSW",
        "outputId": "2a239b7d-b95b-4958-9c2d-89ffc6686cfa",
        "colab": {
          "base_uri": "https://localhost:8080/"
        }
      },
      "execution_count": 19,
      "outputs": [
        {
          "output_type": "stream",
          "name": "stdout",
          "text": [
            "+-----+-----+\n",
            "|State|count|\n",
            "+-----+-----+\n",
            "|   CA|14805|\n",
            "|   TX| 2965|\n",
            "|   NY| 2928|\n",
            "|   FL| 2753|\n",
            "|   MA| 1948|\n",
            "|   WA| 1794|\n",
            "|   GA| 1746|\n",
            "|   CO| 1665|\n",
            "| null| 1537|\n",
            "|   IL| 1445|\n",
            "|   PA| 1393|\n",
            "|   NC| 1370|\n",
            "|   MD| 1271|\n",
            "|   MN| 1235|\n",
            "|   MO| 1221|\n",
            "|   OH| 1196|\n",
            "|   VA| 1188|\n",
            "|   MI| 1151|\n",
            "|   OR| 1008|\n",
            "|   AZ|  966|\n",
            "|   UT|  939|\n",
            "|   WI|  843|\n",
            "|   TN|  843|\n",
            "|   NJ|  759|\n",
            "|   IN|  678|\n",
            "|   IA|  640|\n",
            "|   KS|  612|\n",
            "|   OK|  611|\n",
            "|   CT|  558|\n",
            "|   SC|  515|\n",
            "|   NV|  488|\n",
            "|   HI|  406|\n",
            "|   AL|  402|\n",
            "|   VT|  318|\n",
            "|   NE|  291|\n",
            "|   DC|  286|\n",
            "|   KY|  284|\n",
            "|   ME|  282|\n",
            "|   AR|  278|\n",
            "|   NM|  260|\n",
            "|   LA|  259|\n",
            "|   RI|  239|\n",
            "|   MS|  199|\n",
            "|   ID|  177|\n",
            "|   NH|  174|\n",
            "|   WV|  159|\n",
            "|   SD|  153|\n",
            "|   DE|  124|\n",
            "|   ND|  124|\n",
            "|   WY|  103|\n",
            "+-----+-----+\n",
            "only showing top 50 rows\n",
            "\n"
          ]
        }
      ]
    },
    {
      "cell_type": "code",
      "execution_count": 5,
      "metadata": {
        "colab": {
          "base_uri": "https://localhost:8080/"
        },
        "id": "Fn1GQmlBEbNB",
        "outputId": "4f832230-a3f5-43b4-cae4-2eed2377f403"
      },
      "outputs": [
        {
          "output_type": "stream",
          "name": "stdout",
          "text": [
            "+-----+-----+\n",
            "|State|count|\n",
            "+-----+-----+\n",
            "|   CA|14805|\n",
            "|   TX| 2965|\n",
            "|   NY| 2928|\n",
            "|   FL| 2753|\n",
            "|   MA| 1948|\n",
            "|   WA| 1794|\n",
            "|   GA| 1746|\n",
            "|   CO| 1665|\n",
            "| null| 1537|\n",
            "|   IL| 1445|\n",
            "|   PA| 1393|\n",
            "|   NC| 1370|\n",
            "|   MD| 1271|\n",
            "|   MN| 1235|\n",
            "|   MO| 1221|\n",
            "|   OH| 1196|\n",
            "|   VA| 1188|\n",
            "|   MI| 1151|\n",
            "|   OR| 1008|\n",
            "|   AZ|  966|\n",
            "|   UT|  939|\n",
            "|   WI|  843|\n",
            "|   TN|  843|\n",
            "|   NJ|  759|\n",
            "|   IN|  678|\n",
            "|   IA|  640|\n",
            "|   KS|  612|\n",
            "|   OK|  611|\n",
            "|   CT|  558|\n",
            "|   SC|  515|\n",
            "|   NV|  488|\n",
            "|   HI|  406|\n",
            "|   AL|  402|\n",
            "|   VT|  318|\n",
            "|   NE|  291|\n",
            "|   DC|  286|\n",
            "|   KY|  284|\n",
            "|   ME|  282|\n",
            "|   AR|  278|\n",
            "|   NM|  260|\n",
            "|   LA|  259|\n",
            "|   RI|  239|\n",
            "|   MS|  199|\n",
            "|   ID|  177|\n",
            "|   NH|  174|\n",
            "|   WV|  159|\n",
            "|   SD|  153|\n",
            "|   DE|  124|\n",
            "|   ND|  124|\n",
            "|   WY|  103|\n",
            "+-----+-----+\n",
            "only showing top 50 rows\n",
            "\n"
          ]
        }
      ],
      "source": [
        "dfCS.groupBy('State').count().orderBy('count', ascending=False).show(50)"
      ]
    }
  ],
  "metadata": {
    "kernelspec": {
      "display_name": "Python 3 (ipykernel)",
      "language": "python",
      "name": "python3"
    },
    "language_info": {
      "codemirror_mode": {
        "name": "ipython",
        "version": 3
      },
      "file_extension": ".py",
      "mimetype": "text/x-python",
      "name": "python",
      "nbconvert_exporter": "python",
      "pygments_lexer": "ipython3",
      "version": "3.9.13"
    },
    "vscode": {
      "interpreter": {
        "hash": "25876271bee417cea62ac4a874d4e4ae52fe419c2f0f6d8a5704a6b7fa872526"
      }
    },
    "colab": {
      "provenance": [],
      "include_colab_link": true
    }
  },
  "nbformat": 4,
  "nbformat_minor": 0
}