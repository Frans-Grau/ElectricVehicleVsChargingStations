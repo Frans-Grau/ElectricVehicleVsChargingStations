{
  "cells": [
    {
      "cell_type": "markdown",
      "metadata": {
        "id": "view-in-github",
        "colab_type": "text"
      },
      "source": [
        "<a href=\"https://colab.research.google.com/github/Frans-Grau/ElectricVehicleVsChargingStations/blob/main/ChargingStations.ipynb\" target=\"_parent\"><img src=\"https://colab.research.google.com/assets/colab-badge.svg\" alt=\"Open In Colab\"/></a>"
      ]
    },
    {
      "cell_type": "code",
      "source": [
        "# !pip install pyspark"
      ],
      "metadata": {
        "id": "OjRDzoz4E-0k"
      },
      "execution_count": null,
      "outputs": []
    },
    {
      "cell_type": "code",
      "execution_count": 3,
      "metadata": {
        "id": "9yZHVzM3EbM6"
      },
      "outputs": [],
      "source": [
        "import pyspark\n",
        "from pyspark import SparkConf, SparkContext\n",
        "from pyspark.sql import SparkSession\n",
        "spark = SparkSession.builder.appName(\"Chargers\").getOrCreate()"
      ]
    },
    {
      "cell_type": "code",
      "source": [
        "url = \"https://raw.githubusercontent.com/Frans-Grau/ElectricVehicleVsChargingStations/main/Databases/Cstations2.csv\"\n",
        "from pyspark import SparkFiles\n",
        "spark.sparkContext.addFile(url)\n",
        "\n",
        "dfCS = spark.read.csv(\"file://\"+SparkFiles.get(\"Cstations2.csv\"), header=True, inferSchema= True)"
      ],
      "metadata": {
        "id": "cZmOwmsvE9mP"
      },
      "execution_count": 12,
      "outputs": []
    },
    {
      "cell_type": "code",
      "source": [
        "dfCS.show()"
      ],
      "metadata": {
        "colab": {
          "base_uri": "https://localhost:8080/"
        },
        "id": "TyUSa5idFno4",
        "outputId": "29d438de-0757-4afe-ffc0-d5e57bf8a6d2"
      },
      "execution_count": 13,
      "outputs": [
        {
          "output_type": "stream",
          "name": "stdout",
          "text": [
            "+--------------+--------------------+--------------------+-----------------------+-------------+-----+-----+-----+-------------+-----------+-------------+-----------------------+--------------------+--------------------+---------+-----------------+---------+------------------+------------------+----------------+-------------+----------+--------------+--------------+-----------------+------------------+-------------------+---+-------------------+---------------+-----------------+-------------------+-------------------+--------------------+----------------+-----------+----------------+------------------+-------+--------------------------------+-------------------------+------------------+--------------------------------+------------------+-----------+------------------+-------------------+------------------+-----------------+----------------------------+------------------------------+--------------------+----------------------------+------------------------+----------+-------------------+----------------+------------------+------------------+------------------+---------+-----------------+-----------------+---------------------------+-----------------+\n",
            "|Fuel Type Code|        Station Name|      Street Address|Intersection Directions|         City|State|  ZIP|Plus4|Station Phone|Status Code|Expected Date|Groups With Access Code|    Access Days Time|      Cards Accepted|BD Blends|NG Fill Type Code|   NG PSI|EV Level1 EVSE Num|EV Level2 EVSE Num|EV DC Fast Count|EV Other Info|EV Network|EV Network Web|Geocode Status|         Latitude|         Longitude|Date Last Confirmed| ID|         Updated At|Owner Type Code|Federal Agency ID|Federal Agency Name|          Open Date|Hydrogen Status Link|NG Vehicle Class|LPG Primary|E85 Blender Pump|EV Connector Types|Country|Intersection Directions (French)|Access Days Time (French)|BD Blends (French)|Groups With Access Code (French)|Hydrogen Is Retail|Access Code|Access Detail Code|Federal Agency Code|     Facility Type|CNG Dispenser Num|CNG On-Site Renewable Source|CNG Total Compression Capacity|CNG Storage Capacity|LNG On-Site Renewable Source|E85 Other Ethanol Blends|EV Pricing|EV Pricing (French)|LPG Nozzle Types|Hydrogen Pressures|Hydrogen Standards|CNG Fill Type Code|  CNG PSI|CNG Vehicle Class|LNG Vehicle Class|EV On-Site Renewable Source|Restricted Access|\n",
            "+--------------+--------------------+--------------------+-----------------------+-------------+-----+-----+-----+-------------+-----------+-------------+-----------------------+--------------------+--------------------+---------+-----------------+---------+------------------+------------------+----------------+-------------+----------+--------------+--------------+-----------------+------------------+-------------------+---+-------------------+---------------+-----------------+-------------------+-------------------+--------------------+----------------+-----------+----------------+------------------+-------+--------------------------------+-------------------------+------------------+--------------------------------+------------------+-----------+------------------+-------------------+------------------+-----------------+----------------------------+------------------------------+--------------------+----------------------------+------------------------+----------+-------------------+----------------+------------------+------------------+------------------+---------+-----------------+-----------------+---------------------------+-----------------+\n",
            "|           CNG|Spire - Montgomer...|    2951 Chestnut St|                   null|   Montgomery|   AL|36107| null|         null|          E|         null|                Private|                null|                null|     null|                B|     3600|              null|              null|            null|         null|      null|          null|         200-9|        32.367916|        -86.267021|         2020-11-09| 17|2021-07-29 15:08:10|              T|             null|               null|2010-12-01 00:00:00|                null|              MD|       null|            null|              null|     US|                            null|                     null|              null|                           Privé|              null|    private|              null|               null|STANDALONE_STATION|             null|                        null|                          null|                null|                        null|                    null|      null|               null|            null|              null|              null|                 B|     3600|               MD|             null|                       null|             null|\n",
            "|           CNG| PS Energy - Atlanta|    340 Whitehall St|   From I-7585 N, ex...|      Atlanta|   GA|30303| null| 770-350-3000|          E|         null|   Public - Card key...|      24 hours daily|Comdata FleetOne ...|     null|                Q|     3600|              null|              null|            null|         null|      null|          null|         200-8|        33.745843|        -84.398837|         2020-10-09| 42|2021-07-26 13:24:55|              P|             null|               null|1994-07-15 00:00:00|                null|              MD|       null|            null|              null|     US|                            null|                     null|              null|            Public - Carte-cl...|              null|     public|        KEY_ALWAYS|               null|STANDALONE_STATION|                1|                        null|                            30|                null|                        null|                    null|      null|               null|            null|              null|              null|                 Q|     3600|               MD|             null|                       null|             null|\n",
            "|           CNG|Metropolitan Atla...| 2424 Piedmont Rd NE|                   null|      Atlanta|   GA|30324| null|         null|          E|         null|   Private - Governm...|                null|                null|     null|                Q|     3000|              null|              null|            null|         null|      null|          null|         200-8|        33.821911|        -84.367461|         2020-03-03| 45|2021-07-27 21:03:31|             LG|             null|               null|1996-12-15 00:00:00|                null|              LD|       null|            null|              null|     US|                            null|                     null|              null|            Privé - Réservé a...|              null|    private|        GOVERNMENT|               null|      FLEET_GARAGE|             null|                        null|                            30|                null|                        null|                    null|      null|               null|            null|              null|              null|                 Q|     3000|               LD|             null|                       null|             null|\n",
            "|           CNG|United Parcel Ser...|270 Marvin Miller Dr|                   null|      Atlanta|   GA|30336| null|         null|          E|         null|                Private|                null|                null|     null|                B|     3600|              null|              null|            null|         null|      null|          null|         200-9|        33.760256|        -84.543822|         2021-04-08| 64|2021-04-08 20:32:57|              P|             null|               null|1997-01-01 00:00:00|                null|              HD|       null|            null|              null|     US|                            null|                     null|              null|                           Privé|              null|    private|              null|               null|STANDALONE_STATION|             null|                        null|                          null|                null|                        null|                    null|      null|               null|            null|              null|              null|                 B|     3600|               HD|             null|                       null|             null|\n",
            "|           CNG|Clean Energy - Te...| 7721A Washington St|   I-10, Washington ...|      Houston|   TX|77007| null| 866-809-4869|          E|         null|   Public - Credit c...|24 hours daily; c...|CleanEnergy D Fue...|     null|                Q|3000 3600|              null|              null|            null|         null|      null|          null|         200-9|        29.779918|        -95.435385|         2021-01-14| 72|2021-07-20 14:30:28|              P|             null|               null|1996-12-15 00:00:00|                null|              MD|       null|            null|              null|     US|                            null|                     null|              null|            Public - Carte de...|              null|     public|CREDIT_CARD_ALWAYS|               null|         STATE_GOV|                2|                        null|                           420|                null|                        null|                    null|      null|               null|            null|              null|              null|                 Q|3000 3600|               MD|             null|                       null|             null|\n",
            "|           CNG|Arkansas Oklahoma...|   2100 S Waldron Rd|                   null|   Fort Smith|   AR|72903| null| 479-783-3188|          E|         null|   Public - Credit c...|      24 hours daily|FuelMan M V Wrigh...|     null|                Q|     3600|              null|              null|            null|         null|      null|          null|         200-9|        35.362213|        -94.375338|         2021-04-08| 73|2021-04-08 20:32:57|              T|             null|               null|1997-01-01 00:00:00|                null|              MD|       null|            null|              null|     US|                            null|                     null|              null|            Public - Carte de...|              null|     public|CREDIT_CARD_ALWAYS|               null|           UTILITY|                1|                        null|                           250|               57855|                        null|                    null|      null|               null|            null|              null|              null|                 Q|     3600|               MD|             null|                       null|             null|\n",
            "|           CNG|Clean Energy - Lo...| 1000 Cottage St Ext|   From Route 1, tak...|  East Boston|   MA|02128| null| 866-809-4869|          E|         null|   Public - Credit c...|24 hours daily; c...|A CleanEnergy Com...|     null|                Q|3000 3600|              null|              null|            null|         null|      null|          null|           GPS|42.37470554648246|-71.02654860574343|         2021-01-14| 81|2021-07-26 20:34:50|             SG|             null|               null|1996-11-15 00:00:00|                null|              MD|       null|            null|              null|     US|                            null|                     null|              null|            Public - Carte de...|              null|     public|CREDIT_CARD_ALWAYS|               null|           AIRPORT|                4|                        NONE|                           850|                null|                        null|                    null|      null|               null|            null|              null|              null|                 Q|3000 3600|               MD|             null|                       null|             null|\n",
            "|           CNG|Clean Energy - Ev...|         16 Rover St|   Rt 16, exit to Rt...|      Everett|   MA|02149| null| 866-809-4869|          E|         null|   Public - Credit c...|24 hours daily; c...|CleanEnergy D Fle...|     null|                Q|3000 3600|              null|              null|            null|         null|      null|          null|         200-8|        42.393167|        -71.064352|         2021-05-06| 84|2021-05-06 13:19:19|              T|             null|               null|1996-11-15 00:00:00|                null|              HD|       null|            null|              null|     US|                            null|                     null|              null|            Public - Carte de...|              null|     public|CREDIT_CARD_ALWAYS|               null|STANDALONE_STATION|                1|                        NONE|                           425|                null|                        null|                    null|      null|               null|            null|              null|              null|                 Q|3000 3600|               HD|             null|                       null|             null|\n",
            "|           CNG|Clean Energy - Gr...|     287 Maspeth Ave|   I-278/Brooklyn Qu...|     Brooklyn|   NY|11211| null| 866-809-4869|          E|         null|   Public - Credit c...|24 hours daily; c...|CleanEnergy D Fue...|     null|                Q|3000 3600|              null|              null|            null|         null|      null|          null|         200-8|        40.718037|        -73.932309|         2021-05-06|108|2021-05-06 13:19:19|              T|             null|               null|2016-07-15 00:00:00|                null|              HD|       null|            null|              null|     US|                            null|                     null|              null|            Public - Carte de...|              null|     public|CREDIT_CARD_ALWAYS|               null|           UTILITY|                1|                        NONE|                          1200|                null|                        null|                    null|      null|               null|            null|              null|              null|                 Q|3000 3600|               HD|             null|                       null|             null|\n",
            "|           CNG|Canarsie - Nation...|     8424 Ditmas Ave|   From Shore Pkwy, ...|     Brooklyn|   NY|11236| null| 866-809-4869|          E|         null|   Public - Credit c...|24 hours daily; c...|CleanEnergy D Fle...|     null|                B|3000 3600|              null|              null|            null|         null|      null|          null|         200-8|         40.64554|        -73.918344|         2021-07-14|112|2021-07-14 18:51:43|              T|             null|               null|1988-01-15 00:00:00|                null|              MD|       null|            null|              null|     US|                            null|                     null|              null|            Public - Carte de...|              null|     public|CREDIT_CARD_ALWAYS|               null|           UTILITY|                1|                        NONE|                           525|                null|                        null|                    null|      null|               null|            null|              null|              null|                 B|3000 3600|               MD|             null|                       null|             null|\n",
            "|           CNG|Langsdale Facilit...|2150 Dr Martin Lu...|                   null| Indianapolis|   IN|46202| null|         null|          T|   2021-01-15|   TEMPORARILY UNAVA...|                null|                null|     null|                B|3000 3600|              null|              null|            null|         null|      null|          null|         200-8|        39.795998|        -86.169223|         2020-10-09|146|2021-03-04 18:40:37|              P|             null|               null|               null|                null|              MD|       null|            null|              null|     US|                            null|                     null|              null|            TEMPORAIREMENT SU...|              null|    private|              null|               null|STANDALONE_STATION|             null|                        null|                          null|                null|                        null|                    null|      null|               null|            null|              null|              null|                 B|3000 3600|               MD|             null|                       null|             null|\n",
            "|           CNG|CNG Source Fuelin...|    111 W Raymond St|   I-65, exit onto R...| Indianapolis|   IN|46225| null| 317-353-8241|          E|         null|   Public - Credit c...|      24 hours daily|    D M V Wright_Exp|     null|                Q|     3600|              null|              null|            null|         null|      null|          null|         200-9|        39.736169|        -86.161743|         2020-10-09|147|2021-03-04 18:40:37|              T|             null|               null|1991-03-15 00:00:00|                null|              MD|       null|            null|              null|     US|                            null|                     null|              null|            Public - Carte de...|              null|     public|CREDIT_CARD_ALWAYS|               null|STANDALONE_STATION|                1|                        null|                           720|               34500|                        null|                    null|      null|               null|            null|              null|              null|                 Q|     3600|               MD|             null|                       null|             null|\n",
            "|           CNG|               Shell|     131 Brainard Rd|   I-91, exit 27, at...|     Hartford|   CT|06114| null| 860-278-7044|          T|   2021-11-15|   TEMPORARILY UNAVA...|      24 hours daily|A Cash Comdata D ...|     null|                Q|     3600|              null|              null|            null|         null|      null|          null|         200-9|        41.736894|        -72.660257|         2021-06-07|248|2021-06-07 17:37:37|              P|             null|               null|               null|                null|              HD|       null|            null|              null|     US|                            null|                     null|              null|            TEMPORAIREMENT SU...|              null|     public|              null|               null| CONVENIENCE_STORE|                2|                        null|                           120|                null|                        null|                    null|      null|               null|            null|              null|              null|                 Q|     3600|               HD|             null|                       null|             null|\n",
            "|           CNG| Sparq - Baton Rouge|   8968 S Choctaw Dr|   2 miles east of A...|  Baton Rouge|   LA|70815| null| 844-772-7764|          E|         null|   Public - Credit c...|      24 hours daily|Comdata FuelMan G...|     null|                Q|     3600|              null|              null|            null|         null|      null|          null|         200-9|        30.471166|        -91.087975|         2020-07-13|296|2021-07-29 14:32:29|              P|             null|               null|1996-08-15 00:00:00|                null|              HD|       null|            null|              null|     US|                            null|                     null|              null|            Public - Carte de...|              null|     public|CREDIT_CARD_ALWAYS|               null|STANDALONE_STATION|                2|                        NONE|                           112|                null|                        null|                    null|      null|               null|            null|              null|              null|                 Q|     3600|               HD|             null|                       null|             null|\n",
            "|           CNG|Clean Energy - Ci...|      2931 Rufina St|                   null|     Santa Fe|   NM|87507| null| 866-809-4869|          E|         null|   Public - Credit c...|24 hours daily; c...|CleanEnergy D Fue...|     null|                Q|3000 3600|              null|              null|            null|         null|      null|          null|         200-8|         35.65758|       -105.993406|         2020-08-05|360|2021-07-20 14:30:28|             LG|             null|               null|2001-12-15 00:00:00|                null|              HD|       null|            null|              null|     US|                            null|                     null|              null|            Public - Carte de...|              null|     public|CREDIT_CARD_ALWAYS|               null|      FLEET_GARAGE|                1|                        null|                           300|                null|                        null|                    null|      null|               null|            null|              null|              null|                 Q|3000 3600|               HD|             null|                       null|             null|\n",
            "|           CNG|  Kansas Gas Service|     11401 W 89th St|   Station located i...|Overland Park|   KS|66214| null| 844-713-7988|          E|         null|   Public - Credit c...|      24 hours daily|A D M V Voyager W...|     null|                Q|     3600|              null|              null|            null|         null|      null|          null|         200-9|        38.966292|        -94.715917|         2020-11-09|372|2021-03-04 18:40:37|              T|             null|               null|1996-12-03 00:00:00|                null|              HD|       null|            null|              null|     US|                            null|                     null|              null|            Public - Carte de...|              null|     public|CREDIT_CARD_ALWAYS|               null|           UTILITY|                1|                        null|                          null|               52000|                        null|                    null|      null|               null|            null|              null|              null|                 Q|     3600|               HD|             null|                       null|             null|\n",
            "|           CNG|Intermountain Gas Co|       555 S Cole Rd|                   null|        Boise|   ID|83709| null|         null|          E|         null|                Private|                null|                null|     null|                Q|     3600|              null|              null|            null|         null|      null|          null|         200-9|        43.599179|       -116.276042|         2021-05-06|408|2021-05-06 13:19:19|              T|             null|               null|1987-03-15 00:00:00|                null|              LD|       null|            null|              null|     US|                            null|                     null|              null|                           Privé|              null|    private|              null|               null|           UTILITY|             null|                        NONE|                            70|                null|                        null|                    null|      null|               null|            null|              null|              null|                 Q|     3600|               LD|             null|                       null|             null|\n",
            "|           CNG|Intermountain Gas Co|    12584 W Tyhee Rd|                   null|    Pocatello|   ID|83202| null|         null|          E|         null|                Private|                null|                null|     null|                Q|     3000|              null|              null|            null|         null|      null|          null|         200-9|        42.949867|       -112.468069|         2021-05-06|413|2021-05-06 13:19:19|              T|             null|               null|1989-03-15 00:00:00|                null|              LD|       null|            null|              null|     US|                            null|                     null|              null|                           Privé|              null|    private|              null|               null|           UTILITY|             null|                        NONE|                            25|                null|                        null|                    null|      null|               null|            null|              null|              null|                 Q|     3000|               LD|             null|                       null|             null|\n",
            "|           CNG|Intermountain Gas Co|   1527 Hollipark Dr|                   null|  Idaho Falls|   ID|83401| null|         null|          E|         null|                Private|                null|                null|     null|                Q|     3000|              null|              null|            null|         null|      null|          null|         200-9|        43.509729|       -112.007445|         2021-05-06|415|2021-05-06 13:19:19|              T|             null|               null|1988-03-15 00:00:00|                null|              LD|       null|            null|              null|     US|                            null|                     null|              null|                           Privé|              null|    private|              null|               null|           UTILITY|             null|                        NONE|                            25|                null|                        null|                    null|      null|               null|            null|              null|              null|                 Q|     3000|               LD|             null|                       null|             null|\n",
            "|           CNG|Intermountain Gas Co|  2921 Caldwell Blvd|                   null|        Nampa|   ID|83651| null|         null|          E|         null|                Private|                null|                null|     null|                Q|     3000|              null|              null|            null|         null|      null|          null|         200-9|        43.615117|       -116.618458|         2021-05-06|416|2021-05-06 13:19:19|              T|             null|               null|1986-03-15 00:00:00|                null|              LD|       null|            null|              null|     US|                            null|                     null|              null|                           Privé|              null|    private|              null|               null|           UTILITY|             null|                        NONE|                            25|                null|                        null|                    null|      null|               null|            null|              null|              null|                 Q|     3000|               LD|             null|                       null|             null|\n",
            "+--------------+--------------------+--------------------+-----------------------+-------------+-----+-----+-----+-------------+-----------+-------------+-----------------------+--------------------+--------------------+---------+-----------------+---------+------------------+------------------+----------------+-------------+----------+--------------+--------------+-----------------+------------------+-------------------+---+-------------------+---------------+-----------------+-------------------+-------------------+--------------------+----------------+-----------+----------------+------------------+-------+--------------------------------+-------------------------+------------------+--------------------------------+------------------+-----------+------------------+-------------------+------------------+-----------------+----------------------------+------------------------------+--------------------+----------------------------+------------------------+----------+-------------------+----------------+------------------+------------------+------------------+---------+-----------------+-----------------+---------------------------+-----------------+\n",
            "only showing top 20 rows\n",
            "\n"
          ]
        }
      ]
    },
    {
      "cell_type": "code",
      "execution_count": 14,
      "metadata": {
        "collapsed": true,
        "jupyter": {
          "outputs_hidden": true
        },
        "tags": [],
        "colab": {
          "base_uri": "https://localhost:8080/"
        },
        "id": "lITyti3qEbNA",
        "outputId": "f8b43fa9-801a-4a17-ab42-8ebf3b6c989a"
      },
      "outputs": [
        {
          "output_type": "stream",
          "name": "stdout",
          "text": [
            "root\n",
            " |-- Fuel Type Code: string (nullable = true)\n",
            " |-- Station Name: string (nullable = true)\n",
            " |-- Street Address: string (nullable = true)\n",
            " |-- Intersection Directions: string (nullable = true)\n",
            " |-- City: string (nullable = true)\n",
            " |-- State: string (nullable = true)\n",
            " |-- ZIP: string (nullable = true)\n",
            " |-- Plus4: string (nullable = true)\n",
            " |-- Station Phone: string (nullable = true)\n",
            " |-- Status Code: string (nullable = true)\n",
            " |-- Expected Date: string (nullable = true)\n",
            " |-- Groups With Access Code: string (nullable = true)\n",
            " |-- Access Days Time: string (nullable = true)\n",
            " |-- Cards Accepted: string (nullable = true)\n",
            " |-- BD Blends: string (nullable = true)\n",
            " |-- NG Fill Type Code: string (nullable = true)\n",
            " |-- NG PSI: string (nullable = true)\n",
            " |-- EV Level1 EVSE Num: integer (nullable = true)\n",
            " |-- EV Level2 EVSE Num: string (nullable = true)\n",
            " |-- EV DC Fast Count: string (nullable = true)\n",
            " |-- EV Other Info: string (nullable = true)\n",
            " |-- EV Network: string (nullable = true)\n",
            " |-- EV Network Web: string (nullable = true)\n",
            " |-- Geocode Status: string (nullable = true)\n",
            " |-- Latitude: string (nullable = true)\n",
            " |-- Longitude: string (nullable = true)\n",
            " |-- Date Last Confirmed: string (nullable = true)\n",
            " |-- ID: string (nullable = true)\n",
            " |-- Updated At: timestamp (nullable = true)\n",
            " |-- Owner Type Code: string (nullable = true)\n",
            " |-- Federal Agency ID: string (nullable = true)\n",
            " |-- Federal Agency Name: string (nullable = true)\n",
            " |-- Open Date: timestamp (nullable = true)\n",
            " |-- Hydrogen Status Link: string (nullable = true)\n",
            " |-- NG Vehicle Class: string (nullable = true)\n",
            " |-- LPG Primary: string (nullable = true)\n",
            " |-- E85 Blender Pump: string (nullable = true)\n",
            " |-- EV Connector Types: string (nullable = true)\n",
            " |-- Country: string (nullable = true)\n",
            " |-- Intersection Directions (French): string (nullable = true)\n",
            " |-- Access Days Time (French): string (nullable = true)\n",
            " |-- BD Blends (French): string (nullable = true)\n",
            " |-- Groups With Access Code (French): string (nullable = true)\n",
            " |-- Hydrogen Is Retail: string (nullable = true)\n",
            " |-- Access Code: string (nullable = true)\n",
            " |-- Access Detail Code: string (nullable = true)\n",
            " |-- Federal Agency Code: string (nullable = true)\n",
            " |-- Facility Type: string (nullable = true)\n",
            " |-- CNG Dispenser Num: string (nullable = true)\n",
            " |-- CNG On-Site Renewable Source: string (nullable = true)\n",
            " |-- CNG Total Compression Capacity: integer (nullable = true)\n",
            " |-- CNG Storage Capacity: string (nullable = true)\n",
            " |-- LNG On-Site Renewable Source: string (nullable = true)\n",
            " |-- E85 Other Ethanol Blends: string (nullable = true)\n",
            " |-- EV Pricing: string (nullable = true)\n",
            " |-- EV Pricing (French): string (nullable = true)\n",
            " |-- LPG Nozzle Types: string (nullable = true)\n",
            " |-- Hydrogen Pressures: string (nullable = true)\n",
            " |-- Hydrogen Standards: string (nullable = true)\n",
            " |-- CNG Fill Type Code: string (nullable = true)\n",
            " |-- CNG PSI: string (nullable = true)\n",
            " |-- CNG Vehicle Class: string (nullable = true)\n",
            " |-- LNG Vehicle Class: string (nullable = true)\n",
            " |-- EV On-Site Renewable Source: string (nullable = true)\n",
            " |-- Restricted Access: string (nullable = true)\n",
            "\n"
          ]
        }
      ],
      "source": [
        "dfCS.printSchema()"
      ]
    },
    {
      "cell_type": "code",
      "execution_count": 15,
      "metadata": {
        "colab": {
          "base_uri": "https://localhost:8080/"
        },
        "id": "Fn1GQmlBEbNB",
        "outputId": "6d175bfa-8e3b-434e-e59f-55d8cc36acf8"
      },
      "outputs": [
        {
          "output_type": "stream",
          "name": "stdout",
          "text": [
            "+-----+-----+\n",
            "|State|count|\n",
            "+-----+-----+\n",
            "|   CA|14805|\n",
            "|   TX| 2965|\n",
            "|   NY| 2928|\n",
            "|   FL| 2753|\n",
            "|   MA| 1948|\n",
            "|   WA| 1794|\n",
            "|   GA| 1746|\n",
            "|   CO| 1665|\n",
            "| null| 1537|\n",
            "|   IL| 1445|\n",
            "|   PA| 1393|\n",
            "|   NC| 1370|\n",
            "|   MD| 1271|\n",
            "|   MN| 1235|\n",
            "|   MO| 1221|\n",
            "|   OH| 1196|\n",
            "|   VA| 1188|\n",
            "|   MI| 1151|\n",
            "|   OR| 1008|\n",
            "|   AZ|  966|\n",
            "|   UT|  939|\n",
            "|   WI|  843|\n",
            "|   TN|  843|\n",
            "|   NJ|  759|\n",
            "|   IN|  678|\n",
            "|   IA|  640|\n",
            "|   KS|  612|\n",
            "|   OK|  611|\n",
            "|   CT|  558|\n",
            "|   SC|  515|\n",
            "|   NV|  488|\n",
            "|   HI|  406|\n",
            "|   AL|  402|\n",
            "|   VT|  318|\n",
            "|   NE|  291|\n",
            "|   DC|  286|\n",
            "|   KY|  284|\n",
            "|   ME|  282|\n",
            "|   AR|  278|\n",
            "|   NM|  260|\n",
            "|   LA|  259|\n",
            "|   RI|  239|\n",
            "|   MS|  199|\n",
            "|   ID|  177|\n",
            "|   NH|  174|\n",
            "|   WV|  159|\n",
            "|   SD|  153|\n",
            "|   DE|  124|\n",
            "|   ND|  124|\n",
            "|   WY|  103|\n",
            "+-----+-----+\n",
            "only showing top 50 rows\n",
            "\n"
          ]
        }
      ],
      "source": [
        "dfCS.groupBy('State').count().orderBy('count', ascending=False).show(50)"
      ]
    }
  ],
  "metadata": {
    "kernelspec": {
      "display_name": "Python 3 (ipykernel)",
      "language": "python",
      "name": "python3"
    },
    "language_info": {
      "codemirror_mode": {
        "name": "ipython",
        "version": 3
      },
      "file_extension": ".py",
      "mimetype": "text/x-python",
      "name": "python",
      "nbconvert_exporter": "python",
      "pygments_lexer": "ipython3",
      "version": "3.9.13"
    },
    "vscode": {
      "interpreter": {
        "hash": "25876271bee417cea62ac4a874d4e4ae52fe419c2f0f6d8a5704a6b7fa872526"
      }
    },
    "colab": {
      "provenance": [],
      "include_colab_link": true
    }
  },
  "nbformat": 4,
  "nbformat_minor": 0
}