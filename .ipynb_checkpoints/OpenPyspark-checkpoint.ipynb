{
 "cells": [
  {
   "cell_type": "code",
   "execution_count": 2,
   "id": "2345c28b-b817-4c5b-9ad3-0abaca0d246b",
   "metadata": {},
   "outputs": [],
   "source": [
    "import pyspark\n",
    "from pyspark import SparkConf, SparkContext\n",
    "from pyspark.sql import SparkSession\n",
    "spark = SparkSession.builder.appName(\"SparkByExample\").getOrCreate()"
   ]
  },
  {
   "cell_type": "code",
   "execution_count": 10,
   "id": "67aaac58",
   "metadata": {
    "collapsed": true,
    "jupyter": {
     "outputs_hidden": true
    },
    "tags": []
   },
   "outputs": [
    {
     "name": "stdout",
     "output_type": "stream",
     "text": [
      "+----------+-----------+--------------+-----+-----------+----------+-------------+---------+---------------------+-------------------------------------------------+--------------+---------+--------------------+--------------+--------------------+--------------------+-----------------+\n",
      "|VIN (1-10)|     County|          City|State|Postal Code|Model Year|         Make|    Model|Electric Vehicle Type|Clean Alternative Fuel Vehicle (CAFV) Eligibility|Electric Range|Base MSRP|Legislative District|DOL Vehicle ID|    Vehicle Location|    Electric Utility|2020 Census Tract|\n",
      "+----------+-----------+--------------+-----+-----------+----------+-------------+---------+---------------------+-------------------------------------------------+--------------+---------+--------------------+--------------+--------------------+--------------------+-----------------+\n",
      "|WDC0G5EB7K|     Louisa|       Bumpass|   VA|      23024|      2019|MERCEDES-BENZ|GLC-CLASS| Plug-in Hybrid El...|                             Not eligible due ...|            10|        0|                null|     153874850|POINT (-77.73727 ...|                null|      51109950101|\n",
      "|5YJYGDEE8L|   Kittitas|      Cle Elum|   WA|      98922|      2020|        TESLA|  MODEL Y| Battery Electric ...|                             Clean Alternative...|           291|        0|                  13|     109455524|POINT (-120.93943...|PUGET SOUND ENERG...|      53037975104|\n",
      "|5YJ3E1EBXL|     Chelan|        Chelan|   WA|      98816|      2020|        TESLA|  MODEL 3| Battery Electric ...|                             Clean Alternative...|           322|        0|                  12|     124022020|POINT (-120.01454...|PUD NO 1 OF CHELA...|      53007960302|\n",
      "|5YJ3E1EA5J|  Snohomish|     Snohomish|   WA|      98290|      2018|        TESLA|  MODEL 3| Battery Electric ...|                             Clean Alternative...|           215|        0|                  39|     235141224|POINT (-122.09305...|PUGET SOUND ENERG...|      53061052105|\n",
      "|1FADP5CU1E|   Thurston|      Tumwater|   WA|      98512|      2014|         FORD|    C-MAX| Plug-in Hybrid El...|                             Not eligible due ...|            19|        0|                  22|     141584306|POINT (-122.92057...|PUGET SOUND ENERG...|      53067010920|\n",
      "|3FA6P0PU0D|     Kitsap|      Kingston|   WA|      98346|      2013|         FORD|   FUSION| Plug-in Hybrid El...|                             Not eligible due ...|            19|        0|                  23|     244714032|POINT (-122.49771...|PUGET SOUND ENERG...|      53035090102|\n",
      "|1N4AZ1CP6J|       King|       Seattle|   WA|      98115|      2018|       NISSAN|     LEAF| Battery Electric ...|                             Clean Alternative...|           151|        0|                  46|     111913735|POINT (-122.31765...|CITY OF SEATTLE -...|      53033002100|\n",
      "|WA1VAAGE8K|     Skagit|  Mount Vernon|   WA|      98273|      2019|         AUDI|   E-TRON| Battery Electric ...|                             Clean Alternative...|           204|        0|                  40|     477309276|POINT (-122.33891...|PUGET SOUND ENERG...|      53057952304|\n",
      "|1N4AZ1CP4K|     Kitsap|  Port Orchard|   WA|      98366|      2019|       NISSAN|     LEAF| Battery Electric ...|                             Clean Alternative...|           150|        0|                  26|       1880896|POINT (-122.63847...|PUGET SOUND ENERG...|      53035092500|\n",
      "|5YJ3E1EB1L|  Snohomish|       Bothell|   WA|      98012|      2020|        TESLA|  MODEL 3| Battery Electric ...|                             Clean Alternative...|           322|        0|                   1|       8038117|POINT (-122.21061...|PUGET SOUND ENERG...|      53061051936|\n",
      "|1N4BZ1CP7K|     Yakima|        Tieton|   WA|      98947|      2019|       NISSAN|     LEAF| Battery Electric ...|                             Clean Alternative...|           150|        0|                  14|       8518268|POINT (-120.75541...|          PACIFICORP|      53077002900|\n",
      "|5YJ3E1EB2J|  Snohomish|       Edmonds|   WA|      98026|      2018|        TESLA|  MODEL 3| Battery Electric ...|                             Clean Alternative...|           215|        0|                  21|     227624197|POINT (-122.31768...|PUGET SOUND ENERG...|      53061050200|\n",
      "|KNDCC3LD7J|Walla Walla|   Walla Walla|   WA|      99362|      2018|          KIA|     NIRO| Plug-in Hybrid El...|                             Not eligible due ...|            26|        0|                  16|     336032735|POINT (-118.34261...|          PACIFICORP|      53071920902|\n",
      "|1N4AZ1CP5J|     Kitsap|  Port Orchard|   WA|      98367|      2018|       NISSAN|     LEAF| Battery Electric ...|                             Clean Alternative...|           151|        0|                  26|     477961746|POINT (-122.65745...|PUGET SOUND ENERG...|      53035092101|\n",
      "|1N4AZ1CP0J|     Kitsap|  Port Orchard|   WA|      98367|      2018|       NISSAN|     LEAF| Battery Electric ...|                             Clean Alternative...|           151|        0|                  26|     292189299|POINT (-122.65745...|PUGET SOUND ENERG...|      53035092704|\n",
      "|JN1AZ0CP5C|Walla Walla|   Walla Walla|   WA|      99362|      2012|       NISSAN|     LEAF| Battery Electric ...|                             Clean Alternative...|            73|        0|                  16|     193763377|POINT (-118.34261...|          PACIFICORP|      53071920702|\n",
      "|1N4AZ0CP7F|       King|        Vashon|   WA|      98070|      2015|       NISSAN|     LEAF| Battery Electric ...|                             Clean Alternative...|            84|        0|                  34|     107310661|POINT (-122.4573 ...|PUGET SOUND ENERG...|      53033027701|\n",
      "|5YJ3E1EBXK|        Lee|Smiths Station|   AL|      36877|      2019|        TESLA|  MODEL 3| Battery Electric ...|                             Clean Alternative...|           220|        0|                null|     225833863|POINT (-85.08963 ...|                null|       1081041901|\n",
      "|5YJ3E1EB7K|  Snohomish|       Edmonds|   WA|      98026|      2019|        TESLA|  MODEL 3| Battery Electric ...|                             Clean Alternative...|           220|        0|                  21|     277369837|POINT (-122.31768...|PUGET SOUND ENERG...|      53061050200|\n",
      "|1G1FZ6S09P|    Stevens|          Rice|   WA|      99167|      2023|    CHEVROLET| BOLT EUV| Battery Electric ...|                             Eligibility unkno...|             0|        0|                   7|     220635467|POINT (-118.16165...|         AVISTA CORP|      53065950102|\n",
      "+----------+-----------+--------------+-----+-----------+----------+-------------+---------+---------------------+-------------------------------------------------+--------------+---------+--------------------+--------------+--------------------+--------------------+-----------------+\n",
      "only showing top 20 rows\n",
      "\n"
     ]
    }
   ],
   "source": [
    "df_pyspark = spark.read.options(inferSchema='True',delimiter=',',header=True) \\\n",
    "  .csv('EVPopulation.csv')\n",
    "df_pyspark.show()"
   ]
  },
  {
   "cell_type": "code",
   "execution_count": 11,
   "id": "25ae599a-55e6-4a2d-bb15-43d2d296c9dd",
   "metadata": {},
   "outputs": [
    {
     "name": "stdout",
     "output_type": "stream",
     "text": [
      "root\n",
      " |-- VIN (1-10): string (nullable = true)\n",
      " |-- County: string (nullable = true)\n",
      " |-- City: string (nullable = true)\n",
      " |-- State: string (nullable = true)\n",
      " |-- Postal Code: integer (nullable = true)\n",
      " |-- Model Year: integer (nullable = true)\n",
      " |-- Make: string (nullable = true)\n",
      " |-- Model: string (nullable = true)\n",
      " |-- Electric Vehicle Type: string (nullable = true)\n",
      " |-- Clean Alternative Fuel Vehicle (CAFV) Eligibility: string (nullable = true)\n",
      " |-- Electric Range: integer (nullable = true)\n",
      " |-- Base MSRP: integer (nullable = true)\n",
      " |-- Legislative District: integer (nullable = true)\n",
      " |-- DOL Vehicle ID: integer (nullable = true)\n",
      " |-- Vehicle Location: string (nullable = true)\n",
      " |-- Electric Utility: string (nullable = true)\n",
      " |-- 2020 Census Tract: long (nullable = true)\n",
      "\n"
     ]
    }
   ],
   "source": [
    "df_pyspark.printSchema()"
   ]
  },
  {
   "cell_type": "code",
   "execution_count": 13,
   "id": "7df9093b-faba-456d-80d9-672ad194942f",
   "metadata": {},
   "outputs": [
    {
     "data": {
      "text/plain": [
       "[Row(VIN (1-10)='WDC0G5EB7K', County='Louisa', City='Bumpass', State='VA', Postal Code=23024, Model Year=2019, Make='MERCEDES-BENZ', Model='GLC-CLASS', Electric Vehicle Type='Plug-in Hybrid Electric Vehicle (PHEV)', Clean Alternative Fuel Vehicle (CAFV) Eligibility='Not eligible due to low battery range', Electric Range=10, Base MSRP=0, Legislative District=None, DOL Vehicle ID=153874850, Vehicle Location='POINT (-77.73727 37.96459)', Electric Utility=None, 2020 Census Tract=51109950101)]"
      ]
     },
     "execution_count": 13,
     "metadata": {},
     "output_type": "execute_result"
    }
   ],
   "source": [
    "df_pyspark.head(1)"
   ]
  },
  {
   "cell_type": "code",
   "execution_count": 15,
   "id": "34823132-dc2c-49c6-86c7-1ae46035384d",
   "metadata": {},
   "outputs": [
    {
     "name": "stdout",
     "output_type": "stream",
     "text": [
      "+-----------+\n",
      "|     County|\n",
      "+-----------+\n",
      "|     Louisa|\n",
      "|   Kittitas|\n",
      "|     Chelan|\n",
      "|  Snohomish|\n",
      "|   Thurston|\n",
      "|     Kitsap|\n",
      "|       King|\n",
      "|     Skagit|\n",
      "|     Kitsap|\n",
      "|  Snohomish|\n",
      "|     Yakima|\n",
      "|  Snohomish|\n",
      "|Walla Walla|\n",
      "|     Kitsap|\n",
      "|     Kitsap|\n",
      "|Walla Walla|\n",
      "|       King|\n",
      "|        Lee|\n",
      "|  Snohomish|\n",
      "|    Stevens|\n",
      "+-----------+\n",
      "only showing top 20 rows\n",
      "\n"
     ]
    }
   ],
   "source": [
    "df_pyspark.select('County').show()"
   ]
  },
  {
   "cell_type": "code",
   "execution_count": 14,
   "id": "210b51e7-7fec-42b1-a5d8-15c2dc2dbe8a",
   "metadata": {},
   "outputs": [
    {
     "name": "stdout",
     "output_type": "stream",
     "text": [
      "+-----------+--------------+\n",
      "|     County|          City|\n",
      "+-----------+--------------+\n",
      "|     Louisa|       Bumpass|\n",
      "|   Kittitas|      Cle Elum|\n",
      "|     Chelan|        Chelan|\n",
      "|  Snohomish|     Snohomish|\n",
      "|   Thurston|      Tumwater|\n",
      "|     Kitsap|      Kingston|\n",
      "|       King|       Seattle|\n",
      "|     Skagit|  Mount Vernon|\n",
      "|     Kitsap|  Port Orchard|\n",
      "|  Snohomish|       Bothell|\n",
      "|     Yakima|        Tieton|\n",
      "|  Snohomish|       Edmonds|\n",
      "|Walla Walla|   Walla Walla|\n",
      "|     Kitsap|  Port Orchard|\n",
      "|     Kitsap|  Port Orchard|\n",
      "|Walla Walla|   Walla Walla|\n",
      "|       King|        Vashon|\n",
      "|        Lee|Smiths Station|\n",
      "|  Snohomish|       Edmonds|\n",
      "|    Stevens|          Rice|\n",
      "+-----------+--------------+\n",
      "only showing top 20 rows\n",
      "\n"
     ]
    }
   ],
   "source": [
    "df_pyspark.select(['County','City']).show()"
   ]
  },
  {
   "cell_type": "code",
   "execution_count": 18,
   "id": "873568bf-fc40-4e19-8b21-bad2094cf684",
   "metadata": {},
   "outputs": [
    {
     "name": "stdout",
     "output_type": "stream",
     "text": [
      "+-------+----------+------+--------+------+-----------------+------------------+------+------------------+---------------------+-------------------------------------------------+------------------+------------------+--------------------+--------------------+--------------------+--------------------+--------------------+\n",
      "|summary|VIN (1-10)|County|    City| State|      Postal Code|        Model Year|  Make|             Model|Electric Vehicle Type|Clean Alternative Fuel Vehicle (CAFV) Eligibility|    Electric Range|         Base MSRP|Legislative District|      DOL Vehicle ID|    Vehicle Location|    Electric Utility|   2020 Census Tract|\n",
      "+-------+----------+------+--------+------+-----------------+------------------+------+------------------+---------------------+-------------------------------------------------+------------------+------------------+--------------------+--------------------+--------------------+--------------------+--------------------+\n",
      "|  count|    114600|114600|  114600|114600|           114600|            114600|114600|            114516|               114600|                                           114600|            114600|            114600|              114312|              114600|              114570|              114153|              114600|\n",
      "|   mean|      null|  null|    null|  null| 98153.7904712042|2019.1034642233858|  null|500.51604938271606|                 null|                                             null| 84.95387434554974| 1741.790837696335|   29.79451851074253|2.0108405931352532E8|                null|                null|5.296793097157210...|\n",
      "| stddev|      null|  null|    null|  null|2688.311829146073| 2.918600071625932|  null|  14.6870229105598|                 null|                                             null|101.46263941775652|10621.851421230409|  14.703916604222803|  9.18855019971337E7|                null|                null|1.6801160126078792E9|\n",
      "|    min|1C4JJXP60M| Adams|Aberdeen|    AK|             1730|              1997|  AUDI|              330E| Battery Electric ...|                             Clean Alternative...|                 0|                 0|                   1|                4777|POINT (-104.50818...|         AVISTA CORP|          1081041901|\n",
      "|    max|YV4H60DZ9N|Yakima|  Zillah|    WY|            99701|              2023| VOLVO|              XC90| Plug-in Hybrid El...|                             Not eligible due ...|               337|            845000|                  49|           479254772|POINT (-99.33374 ...|PUGET SOUND ENERG...|         56033000100|\n",
      "+-------+----------+------+--------+------+-----------------+------------------+------+------------------+---------------------+-------------------------------------------------+------------------+------------------+--------------------+--------------------+--------------------+--------------------+--------------------+\n",
      "\n"
     ]
    }
   ],
   "source": [
    "df_pyspark.describe().show()"
   ]
  },
  {
   "cell_type": "code",
   "execution_count": 19,
   "id": "6440ec84-e027-4771-b81f-9cd666531fc3",
   "metadata": {},
   "outputs": [],
   "source": [
    "df_pyspark=df_pyspark.withColumn('NewCol',df_pyspark['Model Year']+2)"
   ]
  },
  {
   "cell_type": "code",
   "execution_count": 20,
   "id": "5da9f6b0-e742-4961-ae4c-363e8f29e061",
   "metadata": {},
   "outputs": [
    {
     "name": "stdout",
     "output_type": "stream",
     "text": [
      "+----------+------+\n",
      "|Model Year|NewCol|\n",
      "+----------+------+\n",
      "|      2019|  2021|\n",
      "|      2020|  2022|\n",
      "|      2020|  2022|\n",
      "|      2018|  2020|\n",
      "|      2014|  2016|\n",
      "|      2013|  2015|\n",
      "|      2018|  2020|\n",
      "|      2019|  2021|\n",
      "|      2019|  2021|\n",
      "|      2020|  2022|\n",
      "|      2019|  2021|\n",
      "|      2018|  2020|\n",
      "|      2018|  2020|\n",
      "|      2018|  2020|\n",
      "|      2018|  2020|\n",
      "|      2012|  2014|\n",
      "|      2015|  2017|\n",
      "|      2019|  2021|\n",
      "|      2019|  2021|\n",
      "|      2023|  2025|\n",
      "+----------+------+\n",
      "only showing top 20 rows\n",
      "\n"
     ]
    }
   ],
   "source": [
    "df_pyspark.select(['Model Year','NewCol']).show()"
   ]
  },
  {
   "cell_type": "code",
   "execution_count": 25,
   "id": "1f62e291-3765-44d6-b015-6d002768080c",
   "metadata": {},
   "outputs": [
    {
     "name": "stdout",
     "output_type": "stream",
     "text": [
      "+----------+-----+\n",
      "|      Make|count|\n",
      "+----------+-----+\n",
      "|     TESLA|52674|\n",
      "|    NISSAN|12839|\n",
      "| CHEVROLET|10273|\n",
      "|      FORD| 6072|\n",
      "|       BMW| 4756|\n",
      "|       KIA| 4561|\n",
      "|    TOYOTA| 4445|\n",
      "|VOLKSWAGEN| 2719|\n",
      "|     VOLVO| 2535|\n",
      "|      AUDI| 2374|\n",
      "|  CHRYSLER| 1826|\n",
      "|   HYUNDAI| 1538|\n",
      "|      JEEP| 1176|\n",
      "|    RIVIAN|  992|\n",
      "|   PORSCHE|  821|\n",
      "|      FIAT|  809|\n",
      "|     HONDA|  788|\n",
      "|      MINI|  671|\n",
      "|  POLESTAR|  585|\n",
      "|MITSUBISHI|  581|\n",
      "+----------+-----+\n",
      "only showing top 20 rows\n",
      "\n"
     ]
    }
   ],
   "source": [
    "### Value Counts\n",
    "df_pyspark.groupBy('Make').count().orderBy('count', ascending=False).show()"
   ]
  }
 ],
 "metadata": {
  "kernelspec": {
   "display_name": "Python 3 (ipykernel)",
   "language": "python",
   "name": "python3"
  },
  "language_info": {
   "codemirror_mode": {
    "name": "ipython",
    "version": 3
   },
   "file_extension": ".py",
   "mimetype": "text/x-python",
   "name": "python",
   "nbconvert_exporter": "python",
   "pygments_lexer": "ipython3",
   "version": "3.9.13"
  }
 },
 "nbformat": 4,
 "nbformat_minor": 5
}
